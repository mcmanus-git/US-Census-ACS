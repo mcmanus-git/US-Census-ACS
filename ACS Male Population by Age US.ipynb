{
 "cells": [
  {
   "cell_type": "code",
   "execution_count": 11,
   "metadata": {
    "collapsed": true
   },
   "outputs": [],
   "source": [
    "from MyCreds.mycreds import USCensusAPI\n",
    "import requests\n",
    "import pandas as pd\n",
    "import ast\n",
    "from tqdm.notebook import tqdm"
   ]
  },
  {
   "cell_type": "code",
   "execution_count": 2,
   "outputs": [],
   "source": [
    "def get_variable_table_df(year):\n",
    "    variable_table_url = f'https://api.census.gov/data/{year}/acs/acs1/variables.html'\n",
    "    v_table = pd.read_html(variable_table_url)\n",
    "    variable_df = pd.DataFrame(v_table[0])\n",
    "\n",
    "    return variable_df"
   ],
   "metadata": {
    "collapsed": false,
    "pycharm": {
     "name": "#%%\n"
    }
   }
  },
  {
   "cell_type": "code",
   "execution_count": 3,
   "outputs": [],
   "source": [
    "def get_male_by_age_index(variable_table):\n",
    "    start_index = variable_table[((variable_table['Label'] == 'Estimate!!Total!!Male') | (variable_table['Label'] == 'Estimate!!Total:!!Male:')) & (variable_table['Concept'] == 'SEX BY AGE')].index[0]\n",
    "    end_index = variable_table[((variable_table['Label'] == 'Estimate!!Total!!Male!!85 years and over') | (variable_table['Label'] == 'Estimate!!Total:!!Male:!!85 years and over')) & (variable_table['Concept'] == 'SEX BY AGE')].index[0]\n",
    "    return start_index, end_index + 1"
   ],
   "metadata": {
    "collapsed": false,
    "pycharm": {
     "name": "#%%\n"
    }
   }
  },
  {
   "cell_type": "code",
   "execution_count": 4,
   "outputs": [],
   "source": [
    "def get_variable_names(variable_table, indeces):\n",
    "    total_male_by_age_variables = \",\".join(variable_table.iloc[indeces[0]: indeces[1]]['Name'].values)\n",
    "    return total_male_by_age_variables"
   ],
   "metadata": {
    "collapsed": false,
    "pycharm": {
     "name": "#%%\n"
    }
   }
  },
  {
   "cell_type": "code",
   "execution_count": 5,
   "outputs": [],
   "source": [
    "def get_query_url(year, variables):\n",
    "    # API Reference: https://www.census.gov/data/developers/guidance/api-user-guide.Example_API_Queries.html\n",
    "    host = 'https://api.census.gov/data'\n",
    "    year = f'/{year}'\n",
    "    # Data Dictionary: https://api.census.gov/data.html\n",
    "    dataset_acronym = '/acs/acs1'\n",
    "    g = '?get='\n",
    "    # Variables for the ACS: https://api.census.gov/data/2005/acs/acs1/variables.html\n",
    "    # variables = 'NAME,B01001_001E'\n",
    "    location = '&for=us:*'\n",
    "    usr_key = f\"&key={USCensusAPI.api_key}\"\n",
    "\n",
    "    query_url = f\"{host}{year}{dataset_acronym}{g}{variables}{location}{usr_key}\"\n",
    "\n",
    "    return query_url"
   ],
   "metadata": {
    "collapsed": false,
    "pycharm": {
     "name": "#%%\n"
    }
   }
  },
  {
   "cell_type": "code",
   "execution_count": 6,
   "outputs": [],
   "source": [
    "def get_query_text(query_url):\n",
    "    response = requests.get(query_url)\n",
    "    return response.text"
   ],
   "metadata": {
    "collapsed": false,
    "pycharm": {
     "name": "#%%\n"
    }
   }
  },
  {
   "cell_type": "code",
   "execution_count": 7,
   "outputs": [],
   "source": [
    "def get_values_from_response(response_text):\n",
    "    values = [int(i) for i in ast.literal_eval(response_text)[1][:-1]]\n",
    "    return values"
   ],
   "metadata": {
    "collapsed": false,
    "pycharm": {
     "name": "#%%\n"
    }
   }
  },
  {
   "cell_type": "code",
   "execution_count": 8,
   "outputs": [],
   "source": [
    "def get_labels(variable_df, indeces):\n",
    "    # labels = ['Male: Total', *[i.strip('Estimate!!Total:!!').replace(\"!!\", \" \") for i in variable_df.iloc[indeces[0]:indeces[1]]['Label'].values]]\n",
    "    labels = [i.replace(\"!!\", \" \").replace(\":\", \"\") for i in variable_df.iloc[indeces[0]:indeces[1]]['Label'].values]\n",
    "    return labels"
   ],
   "metadata": {
    "collapsed": false,
    "pycharm": {
     "name": "#%%\n"
    }
   }
  },
  {
   "cell_type": "code",
   "execution_count": 9,
   "outputs": [],
   "source": [
    "def create_year_pop_dataframe(year, labels, values):\n",
    "    df = pd.DataFrame({year: {labels[i]: values[i] for i in range(len(labels))}}).reindex(labels)\n",
    "    return df"
   ],
   "metadata": {
    "collapsed": false,
    "pycharm": {
     "name": "#%%\n"
    }
   }
  },
  {
   "cell_type": "code",
   "execution_count": 10,
   "outputs": [],
   "source": [
    "def create_male_pop_by_age_df(year):\n",
    "    v_table = get_variable_table_df(year)\n",
    "    male_by_age_indeces = get_male_by_age_index(v_table)\n",
    "    variables = get_variable_names(v_table, male_by_age_indeces)\n",
    "    query_url = get_query_url(year, variables)\n",
    "    response_text = get_query_text(query_url)\n",
    "    vals = get_values_from_response(response_text)\n",
    "    labels = get_labels(v_table, male_by_age_indeces)\n",
    "    df = create_year_pop_dataframe(year, labels, vals)\n",
    "    return df"
   ],
   "metadata": {
    "collapsed": false,
    "pycharm": {
     "name": "#%%\n"
    }
   }
  },
  {
   "cell_type": "code",
   "execution_count": 41,
   "outputs": [
    {
     "data": {
      "text/plain": "  0%|          | 0/15 [00:00<?, ?it/s]",
      "application/vnd.jupyter.widget-view+json": {
       "version_major": 2,
       "version_minor": 0,
       "model_id": "8a889bf75a32437189e3c5955c0c030b"
      }
     },
     "metadata": {},
     "output_type": "display_data"
    }
   ],
   "source": [
    "years = [i for i in range(2005, 2020)]\n",
    "male_pop_by_age_df = pd.DataFrame(columns=['Population Label'])\n",
    "for year in tqdm(years):\n",
    "    try:\n",
    "        y_df = create_male_pop_by_age_df(year).reset_index().rename({'index': 'Population Label'}, axis=1)\n",
    "        male_pop_by_age_df = pd.merge(male_pop_by_age_df, y_df, how='outer', on='Population Label')\n",
    "    except IndexError:\n",
    "        next"
   ],
   "metadata": {
    "collapsed": false,
    "pycharm": {
     "name": "#%%\n"
    }
   }
  },
  {
   "cell_type": "code",
   "execution_count": 42,
   "outputs": [
    {
     "data": {
      "text/plain": "                         Population Label       2005       2006       2007  \\\n0                     Estimate Total Male  141274964  147434940  148639222   \n1       Estimate Total Male Under 5 years   10356773   10421888   10578358   \n2        Estimate Total Male 5 to 9 years    9945226   10098366   10087957   \n3      Estimate Total Male 10 to 14 years   10674272   10587454   10513768   \n4      Estimate Total Male 15 to 17 years    6415594    6641247    6679175   \n5     Estimate Total Male 18 and 19 years    3642423    4504703    4573863   \n6            Estimate Total Male 20 years    1946123    2346861    2358876   \n7            Estimate Total Male 21 years    1926099    2268506    2269700   \n8      Estimate Total Male 22 to 24 years    5861680    6205974    6187367   \n9      Estimate Total Male 25 to 29 years    9657845   10356272   10505697   \n10     Estimate Total Male 30 to 34 years    9666002    9893240    9800936   \n11     Estimate Total Male 35 to 39 years   10206343   10675120   10625293   \n12     Estimate Total Male 40 to 44 years   11121959   11273754   11110082   \n13     Estimate Total Male 45 to 49 years   10898786   11283628   11345000   \n14     Estimate Total Male 50 to 54 years    9652987   10037576   10289260   \n15     Estimate Total Male 55 to 59 years    8254342    8762788    8782255   \n16    Estimate Total Male 60 and 61 years    2597744    2697559    3134244   \n17     Estimate Total Male 62 to 64 years    3606637    3773329    3860246   \n18    Estimate Total Male 65 and 66 years    2002360    2096170    2199526   \n19     Estimate Total Male 67 to 69 years    2658450    2745928    2811172   \n20     Estimate Total Male 70 to 74 years    3739824    3835107    3897991   \n21     Estimate Total Male 75 to 79 years    3099604    3168881    3182523   \n22     Estimate Total Male 80 to 84 years    2072317    2210627    2234634   \n23  Estimate Total Male 85 years and over    1271574    1549962    1611299   \n\n         2008       2009       2012       2013       2014       2015  \\\n0   149863485  151375321  154436243  155627698  156890101  158167834   \n1    10707049   10853263   10166500   10109150   10117103   10112826   \n2    10154505   10273948   10493216   10516217   10511796   10507658   \n3    10428924   10532166   10601990   10622312   10596279   10533944   \n4     6563046    6487137    6432763    6402435    6390741    6470980   \n5     4678168    4696946    4613289    4556876    4550073    4495739   \n6     2343397    2381015    2463952    2450726    2416850    2378536   \n7     2239549    2285493    2444471    2398385    2375223    2357032   \n8     6228461    6383204    6590360    6808517    6830222    6833725   \n9    10713487   11006461   10760625   10867688   11070617   11290711   \n10    9817992   10060873   10451315   10635488   10765544   10839950   \n11   10553094   10297457    9761486    9831950   10001134   10235171   \n12   10873215   10582197   10506617   10382817   10273647   10073616   \n13   11349805   11308794   10710557   10477997   10309499   10315271   \n14   10539798   10674127   11051752   11042453   11049751   10957719   \n15    8935709    9098584    9973838   10227740   10333822   10479885   \n16    3446968    3390303    3632437    3722503    3811110    3939947   \n17    3868507    4282178    4975812    5000227    5174218    5290469   \n18    2401977    2492871    2967347    3274963    3217874    3232330   \n19    2893564    3029709    3589046    3613546    4010030    4357791   \n20    3991339    4088428    4655827    4907097    5125062    5304173   \n21    3172759    3168175    3276860    3390122    3523217    3633694   \n22    2260017    2258021    2366793    2378028    2393854    2419737   \n23    1702155    1743971    1949390    2010461    2042435    2106930   \n\n         2016       2017       2018       2019  \n0   159061631  160402504  161118151  161588973  \n1    10130841   10138447   10047966    9938937  \n2    10487494   10223398   10095699   10033518  \n3    10579748   10854851   11000943   10987313  \n4     6480400    6456448    6394674    6361859  \n5     4511323    4547414    4578048    4541794  \n6     2355103    2354931    2334371    2318283  \n7     2318893    2284991    2261277    2257008  \n8     6731345    6640221    6526051    6439169  \n9    11496946   11720804   11869477   11817829  \n10   10901776   11023521   11111452   11281470  \n11   10377670   10664164   10790784   10892040  \n12    9837971    9807571    9900261   10028675  \n13   10375001   10369440   10253794   10079567  \n14   10726369   10521449   10266496   10075795  \n15   10557089   10561492   10515549   10440265  \n16    3971452    4106765    4134525    4168435  \n17    5461772    5606148    5745886    5882735  \n18    3301033    3381427    3437352    3538792  \n19    4609409    4596961    4618529    4652319  \n20    5498831    5912776    6221547    6529918  \n21    3717778    3934609    4195815    4367764  \n22    2460143    2492574    2591562    2671396  \n23    2173244    2202102    2226093    2284092  ",
      "text/html": "<div>\n<style scoped>\n    .dataframe tbody tr th:only-of-type {\n        vertical-align: middle;\n    }\n\n    .dataframe tbody tr th {\n        vertical-align: top;\n    }\n\n    .dataframe thead th {\n        text-align: right;\n    }\n</style>\n<table border=\"1\" class=\"dataframe\">\n  <thead>\n    <tr style=\"text-align: right;\">\n      <th></th>\n      <th>Population Label</th>\n      <th>2005</th>\n      <th>2006</th>\n      <th>2007</th>\n      <th>2008</th>\n      <th>2009</th>\n      <th>2012</th>\n      <th>2013</th>\n      <th>2014</th>\n      <th>2015</th>\n      <th>2016</th>\n      <th>2017</th>\n      <th>2018</th>\n      <th>2019</th>\n    </tr>\n  </thead>\n  <tbody>\n    <tr>\n      <th>0</th>\n      <td>Estimate Total Male</td>\n      <td>141274964</td>\n      <td>147434940</td>\n      <td>148639222</td>\n      <td>149863485</td>\n      <td>151375321</td>\n      <td>154436243</td>\n      <td>155627698</td>\n      <td>156890101</td>\n      <td>158167834</td>\n      <td>159061631</td>\n      <td>160402504</td>\n      <td>161118151</td>\n      <td>161588973</td>\n    </tr>\n    <tr>\n      <th>1</th>\n      <td>Estimate Total Male Under 5 years</td>\n      <td>10356773</td>\n      <td>10421888</td>\n      <td>10578358</td>\n      <td>10707049</td>\n      <td>10853263</td>\n      <td>10166500</td>\n      <td>10109150</td>\n      <td>10117103</td>\n      <td>10112826</td>\n      <td>10130841</td>\n      <td>10138447</td>\n      <td>10047966</td>\n      <td>9938937</td>\n    </tr>\n    <tr>\n      <th>2</th>\n      <td>Estimate Total Male 5 to 9 years</td>\n      <td>9945226</td>\n      <td>10098366</td>\n      <td>10087957</td>\n      <td>10154505</td>\n      <td>10273948</td>\n      <td>10493216</td>\n      <td>10516217</td>\n      <td>10511796</td>\n      <td>10507658</td>\n      <td>10487494</td>\n      <td>10223398</td>\n      <td>10095699</td>\n      <td>10033518</td>\n    </tr>\n    <tr>\n      <th>3</th>\n      <td>Estimate Total Male 10 to 14 years</td>\n      <td>10674272</td>\n      <td>10587454</td>\n      <td>10513768</td>\n      <td>10428924</td>\n      <td>10532166</td>\n      <td>10601990</td>\n      <td>10622312</td>\n      <td>10596279</td>\n      <td>10533944</td>\n      <td>10579748</td>\n      <td>10854851</td>\n      <td>11000943</td>\n      <td>10987313</td>\n    </tr>\n    <tr>\n      <th>4</th>\n      <td>Estimate Total Male 15 to 17 years</td>\n      <td>6415594</td>\n      <td>6641247</td>\n      <td>6679175</td>\n      <td>6563046</td>\n      <td>6487137</td>\n      <td>6432763</td>\n      <td>6402435</td>\n      <td>6390741</td>\n      <td>6470980</td>\n      <td>6480400</td>\n      <td>6456448</td>\n      <td>6394674</td>\n      <td>6361859</td>\n    </tr>\n    <tr>\n      <th>5</th>\n      <td>Estimate Total Male 18 and 19 years</td>\n      <td>3642423</td>\n      <td>4504703</td>\n      <td>4573863</td>\n      <td>4678168</td>\n      <td>4696946</td>\n      <td>4613289</td>\n      <td>4556876</td>\n      <td>4550073</td>\n      <td>4495739</td>\n      <td>4511323</td>\n      <td>4547414</td>\n      <td>4578048</td>\n      <td>4541794</td>\n    </tr>\n    <tr>\n      <th>6</th>\n      <td>Estimate Total Male 20 years</td>\n      <td>1946123</td>\n      <td>2346861</td>\n      <td>2358876</td>\n      <td>2343397</td>\n      <td>2381015</td>\n      <td>2463952</td>\n      <td>2450726</td>\n      <td>2416850</td>\n      <td>2378536</td>\n      <td>2355103</td>\n      <td>2354931</td>\n      <td>2334371</td>\n      <td>2318283</td>\n    </tr>\n    <tr>\n      <th>7</th>\n      <td>Estimate Total Male 21 years</td>\n      <td>1926099</td>\n      <td>2268506</td>\n      <td>2269700</td>\n      <td>2239549</td>\n      <td>2285493</td>\n      <td>2444471</td>\n      <td>2398385</td>\n      <td>2375223</td>\n      <td>2357032</td>\n      <td>2318893</td>\n      <td>2284991</td>\n      <td>2261277</td>\n      <td>2257008</td>\n    </tr>\n    <tr>\n      <th>8</th>\n      <td>Estimate Total Male 22 to 24 years</td>\n      <td>5861680</td>\n      <td>6205974</td>\n      <td>6187367</td>\n      <td>6228461</td>\n      <td>6383204</td>\n      <td>6590360</td>\n      <td>6808517</td>\n      <td>6830222</td>\n      <td>6833725</td>\n      <td>6731345</td>\n      <td>6640221</td>\n      <td>6526051</td>\n      <td>6439169</td>\n    </tr>\n    <tr>\n      <th>9</th>\n      <td>Estimate Total Male 25 to 29 years</td>\n      <td>9657845</td>\n      <td>10356272</td>\n      <td>10505697</td>\n      <td>10713487</td>\n      <td>11006461</td>\n      <td>10760625</td>\n      <td>10867688</td>\n      <td>11070617</td>\n      <td>11290711</td>\n      <td>11496946</td>\n      <td>11720804</td>\n      <td>11869477</td>\n      <td>11817829</td>\n    </tr>\n    <tr>\n      <th>10</th>\n      <td>Estimate Total Male 30 to 34 years</td>\n      <td>9666002</td>\n      <td>9893240</td>\n      <td>9800936</td>\n      <td>9817992</td>\n      <td>10060873</td>\n      <td>10451315</td>\n      <td>10635488</td>\n      <td>10765544</td>\n      <td>10839950</td>\n      <td>10901776</td>\n      <td>11023521</td>\n      <td>11111452</td>\n      <td>11281470</td>\n    </tr>\n    <tr>\n      <th>11</th>\n      <td>Estimate Total Male 35 to 39 years</td>\n      <td>10206343</td>\n      <td>10675120</td>\n      <td>10625293</td>\n      <td>10553094</td>\n      <td>10297457</td>\n      <td>9761486</td>\n      <td>9831950</td>\n      <td>10001134</td>\n      <td>10235171</td>\n      <td>10377670</td>\n      <td>10664164</td>\n      <td>10790784</td>\n      <td>10892040</td>\n    </tr>\n    <tr>\n      <th>12</th>\n      <td>Estimate Total Male 40 to 44 years</td>\n      <td>11121959</td>\n      <td>11273754</td>\n      <td>11110082</td>\n      <td>10873215</td>\n      <td>10582197</td>\n      <td>10506617</td>\n      <td>10382817</td>\n      <td>10273647</td>\n      <td>10073616</td>\n      <td>9837971</td>\n      <td>9807571</td>\n      <td>9900261</td>\n      <td>10028675</td>\n    </tr>\n    <tr>\n      <th>13</th>\n      <td>Estimate Total Male 45 to 49 years</td>\n      <td>10898786</td>\n      <td>11283628</td>\n      <td>11345000</td>\n      <td>11349805</td>\n      <td>11308794</td>\n      <td>10710557</td>\n      <td>10477997</td>\n      <td>10309499</td>\n      <td>10315271</td>\n      <td>10375001</td>\n      <td>10369440</td>\n      <td>10253794</td>\n      <td>10079567</td>\n    </tr>\n    <tr>\n      <th>14</th>\n      <td>Estimate Total Male 50 to 54 years</td>\n      <td>9652987</td>\n      <td>10037576</td>\n      <td>10289260</td>\n      <td>10539798</td>\n      <td>10674127</td>\n      <td>11051752</td>\n      <td>11042453</td>\n      <td>11049751</td>\n      <td>10957719</td>\n      <td>10726369</td>\n      <td>10521449</td>\n      <td>10266496</td>\n      <td>10075795</td>\n    </tr>\n    <tr>\n      <th>15</th>\n      <td>Estimate Total Male 55 to 59 years</td>\n      <td>8254342</td>\n      <td>8762788</td>\n      <td>8782255</td>\n      <td>8935709</td>\n      <td>9098584</td>\n      <td>9973838</td>\n      <td>10227740</td>\n      <td>10333822</td>\n      <td>10479885</td>\n      <td>10557089</td>\n      <td>10561492</td>\n      <td>10515549</td>\n      <td>10440265</td>\n    </tr>\n    <tr>\n      <th>16</th>\n      <td>Estimate Total Male 60 and 61 years</td>\n      <td>2597744</td>\n      <td>2697559</td>\n      <td>3134244</td>\n      <td>3446968</td>\n      <td>3390303</td>\n      <td>3632437</td>\n      <td>3722503</td>\n      <td>3811110</td>\n      <td>3939947</td>\n      <td>3971452</td>\n      <td>4106765</td>\n      <td>4134525</td>\n      <td>4168435</td>\n    </tr>\n    <tr>\n      <th>17</th>\n      <td>Estimate Total Male 62 to 64 years</td>\n      <td>3606637</td>\n      <td>3773329</td>\n      <td>3860246</td>\n      <td>3868507</td>\n      <td>4282178</td>\n      <td>4975812</td>\n      <td>5000227</td>\n      <td>5174218</td>\n      <td>5290469</td>\n      <td>5461772</td>\n      <td>5606148</td>\n      <td>5745886</td>\n      <td>5882735</td>\n    </tr>\n    <tr>\n      <th>18</th>\n      <td>Estimate Total Male 65 and 66 years</td>\n      <td>2002360</td>\n      <td>2096170</td>\n      <td>2199526</td>\n      <td>2401977</td>\n      <td>2492871</td>\n      <td>2967347</td>\n      <td>3274963</td>\n      <td>3217874</td>\n      <td>3232330</td>\n      <td>3301033</td>\n      <td>3381427</td>\n      <td>3437352</td>\n      <td>3538792</td>\n    </tr>\n    <tr>\n      <th>19</th>\n      <td>Estimate Total Male 67 to 69 years</td>\n      <td>2658450</td>\n      <td>2745928</td>\n      <td>2811172</td>\n      <td>2893564</td>\n      <td>3029709</td>\n      <td>3589046</td>\n      <td>3613546</td>\n      <td>4010030</td>\n      <td>4357791</td>\n      <td>4609409</td>\n      <td>4596961</td>\n      <td>4618529</td>\n      <td>4652319</td>\n    </tr>\n    <tr>\n      <th>20</th>\n      <td>Estimate Total Male 70 to 74 years</td>\n      <td>3739824</td>\n      <td>3835107</td>\n      <td>3897991</td>\n      <td>3991339</td>\n      <td>4088428</td>\n      <td>4655827</td>\n      <td>4907097</td>\n      <td>5125062</td>\n      <td>5304173</td>\n      <td>5498831</td>\n      <td>5912776</td>\n      <td>6221547</td>\n      <td>6529918</td>\n    </tr>\n    <tr>\n      <th>21</th>\n      <td>Estimate Total Male 75 to 79 years</td>\n      <td>3099604</td>\n      <td>3168881</td>\n      <td>3182523</td>\n      <td>3172759</td>\n      <td>3168175</td>\n      <td>3276860</td>\n      <td>3390122</td>\n      <td>3523217</td>\n      <td>3633694</td>\n      <td>3717778</td>\n      <td>3934609</td>\n      <td>4195815</td>\n      <td>4367764</td>\n    </tr>\n    <tr>\n      <th>22</th>\n      <td>Estimate Total Male 80 to 84 years</td>\n      <td>2072317</td>\n      <td>2210627</td>\n      <td>2234634</td>\n      <td>2260017</td>\n      <td>2258021</td>\n      <td>2366793</td>\n      <td>2378028</td>\n      <td>2393854</td>\n      <td>2419737</td>\n      <td>2460143</td>\n      <td>2492574</td>\n      <td>2591562</td>\n      <td>2671396</td>\n    </tr>\n    <tr>\n      <th>23</th>\n      <td>Estimate Total Male 85 years and over</td>\n      <td>1271574</td>\n      <td>1549962</td>\n      <td>1611299</td>\n      <td>1702155</td>\n      <td>1743971</td>\n      <td>1949390</td>\n      <td>2010461</td>\n      <td>2042435</td>\n      <td>2106930</td>\n      <td>2173244</td>\n      <td>2202102</td>\n      <td>2226093</td>\n      <td>2284092</td>\n    </tr>\n  </tbody>\n</table>\n</div>"
     },
     "execution_count": 42,
     "metadata": {},
     "output_type": "execute_result"
    }
   ],
   "source": [
    "male_pop_by_age_df"
   ],
   "metadata": {
    "collapsed": false,
    "pycharm": {
     "name": "#%%\n"
    }
   }
  },
  {
   "cell_type": "code",
   "execution_count": null,
   "outputs": [],
   "source": [],
   "metadata": {
    "collapsed": false,
    "pycharm": {
     "name": "#%%\n"
    }
   }
  },
  {
   "cell_type": "code",
   "execution_count": null,
   "outputs": [],
   "source": [],
   "metadata": {
    "collapsed": false,
    "pycharm": {
     "name": "#%%\n"
    }
   }
  },
  {
   "cell_type": "code",
   "execution_count": 24,
   "outputs": [
    {
     "data": {
      "text/plain": "                         Population Label       2018\n0                     Estimate Total Male  161118151\n1       Estimate Total Male Under 5 years   10047966\n2        Estimate Total Male 5 to 9 years   10095699\n3      Estimate Total Male 10 to 14 years   11000943\n4      Estimate Total Male 15 to 17 years    6394674\n5     Estimate Total Male 18 and 19 years    4578048\n6            Estimate Total Male 20 years    2334371\n7            Estimate Total Male 21 years    2261277\n8      Estimate Total Male 22 to 24 years    6526051\n9      Estimate Total Male 25 to 29 years   11869477\n10     Estimate Total Male 30 to 34 years   11111452\n11     Estimate Total Male 35 to 39 years   10790784\n12     Estimate Total Male 40 to 44 years    9900261\n13     Estimate Total Male 45 to 49 years   10253794\n14     Estimate Total Male 50 to 54 years   10266496\n15     Estimate Total Male 55 to 59 years   10515549\n16    Estimate Total Male 60 and 61 years    4134525\n17     Estimate Total Male 62 to 64 years    5745886\n18    Estimate Total Male 65 and 66 years    3437352\n19     Estimate Total Male 67 to 69 years    4618529\n20     Estimate Total Male 70 to 74 years    6221547\n21     Estimate Total Male 75 to 79 years    4195815\n22     Estimate Total Male 80 to 84 years    2591562\n23  Estimate Total Male 85 years and over    2226093",
      "text/html": "<div>\n<style scoped>\n    .dataframe tbody tr th:only-of-type {\n        vertical-align: middle;\n    }\n\n    .dataframe tbody tr th {\n        vertical-align: top;\n    }\n\n    .dataframe thead th {\n        text-align: right;\n    }\n</style>\n<table border=\"1\" class=\"dataframe\">\n  <thead>\n    <tr style=\"text-align: right;\">\n      <th></th>\n      <th>Population Label</th>\n      <th>2018</th>\n    </tr>\n  </thead>\n  <tbody>\n    <tr>\n      <th>0</th>\n      <td>Estimate Total Male</td>\n      <td>161118151</td>\n    </tr>\n    <tr>\n      <th>1</th>\n      <td>Estimate Total Male Under 5 years</td>\n      <td>10047966</td>\n    </tr>\n    <tr>\n      <th>2</th>\n      <td>Estimate Total Male 5 to 9 years</td>\n      <td>10095699</td>\n    </tr>\n    <tr>\n      <th>3</th>\n      <td>Estimate Total Male 10 to 14 years</td>\n      <td>11000943</td>\n    </tr>\n    <tr>\n      <th>4</th>\n      <td>Estimate Total Male 15 to 17 years</td>\n      <td>6394674</td>\n    </tr>\n    <tr>\n      <th>5</th>\n      <td>Estimate Total Male 18 and 19 years</td>\n      <td>4578048</td>\n    </tr>\n    <tr>\n      <th>6</th>\n      <td>Estimate Total Male 20 years</td>\n      <td>2334371</td>\n    </tr>\n    <tr>\n      <th>7</th>\n      <td>Estimate Total Male 21 years</td>\n      <td>2261277</td>\n    </tr>\n    <tr>\n      <th>8</th>\n      <td>Estimate Total Male 22 to 24 years</td>\n      <td>6526051</td>\n    </tr>\n    <tr>\n      <th>9</th>\n      <td>Estimate Total Male 25 to 29 years</td>\n      <td>11869477</td>\n    </tr>\n    <tr>\n      <th>10</th>\n      <td>Estimate Total Male 30 to 34 years</td>\n      <td>11111452</td>\n    </tr>\n    <tr>\n      <th>11</th>\n      <td>Estimate Total Male 35 to 39 years</td>\n      <td>10790784</td>\n    </tr>\n    <tr>\n      <th>12</th>\n      <td>Estimate Total Male 40 to 44 years</td>\n      <td>9900261</td>\n    </tr>\n    <tr>\n      <th>13</th>\n      <td>Estimate Total Male 45 to 49 years</td>\n      <td>10253794</td>\n    </tr>\n    <tr>\n      <th>14</th>\n      <td>Estimate Total Male 50 to 54 years</td>\n      <td>10266496</td>\n    </tr>\n    <tr>\n      <th>15</th>\n      <td>Estimate Total Male 55 to 59 years</td>\n      <td>10515549</td>\n    </tr>\n    <tr>\n      <th>16</th>\n      <td>Estimate Total Male 60 and 61 years</td>\n      <td>4134525</td>\n    </tr>\n    <tr>\n      <th>17</th>\n      <td>Estimate Total Male 62 to 64 years</td>\n      <td>5745886</td>\n    </tr>\n    <tr>\n      <th>18</th>\n      <td>Estimate Total Male 65 and 66 years</td>\n      <td>3437352</td>\n    </tr>\n    <tr>\n      <th>19</th>\n      <td>Estimate Total Male 67 to 69 years</td>\n      <td>4618529</td>\n    </tr>\n    <tr>\n      <th>20</th>\n      <td>Estimate Total Male 70 to 74 years</td>\n      <td>6221547</td>\n    </tr>\n    <tr>\n      <th>21</th>\n      <td>Estimate Total Male 75 to 79 years</td>\n      <td>4195815</td>\n    </tr>\n    <tr>\n      <th>22</th>\n      <td>Estimate Total Male 80 to 84 years</td>\n      <td>2591562</td>\n    </tr>\n    <tr>\n      <th>23</th>\n      <td>Estimate Total Male 85 years and over</td>\n      <td>2226093</td>\n    </tr>\n  </tbody>\n</table>\n</div>"
     },
     "execution_count": 24,
     "metadata": {},
     "output_type": "execute_result"
    }
   ],
   "source": [
    "df_2018 = create_male_pop_by_age_df(2018).reset_index().rename({'index': 'Population Label'}, axis=1)\n",
    "df_2018"
   ],
   "metadata": {
    "collapsed": false,
    "pycharm": {
     "name": "#%%\n"
    }
   }
  },
  {
   "cell_type": "code",
   "execution_count": 22,
   "outputs": [
    {
     "data": {
      "text/plain": "                         Population Label       2019\n0                     Estimate Total Male  161588973\n1       Estimate Total Male Under 5 years    9938937\n2        Estimate Total Male 5 to 9 years   10033518\n3      Estimate Total Male 10 to 14 years   10987313\n4      Estimate Total Male 15 to 17 years    6361859\n5     Estimate Total Male 18 and 19 years    4541794\n6            Estimate Total Male 20 years    2318283\n7            Estimate Total Male 21 years    2257008\n8      Estimate Total Male 22 to 24 years    6439169\n9      Estimate Total Male 25 to 29 years   11817829\n10     Estimate Total Male 30 to 34 years   11281470\n11     Estimate Total Male 35 to 39 years   10892040\n12     Estimate Total Male 40 to 44 years   10028675\n13     Estimate Total Male 45 to 49 years   10079567\n14     Estimate Total Male 50 to 54 years   10075795\n15     Estimate Total Male 55 to 59 years   10440265\n16    Estimate Total Male 60 and 61 years    4168435\n17     Estimate Total Male 62 to 64 years    5882735\n18    Estimate Total Male 65 and 66 years    3538792\n19     Estimate Total Male 67 to 69 years    4652319\n20     Estimate Total Male 70 to 74 years    6529918\n21     Estimate Total Male 75 to 79 years    4367764\n22     Estimate Total Male 80 to 84 years    2671396\n23  Estimate Total Male 85 years and over    2284092",
      "text/html": "<div>\n<style scoped>\n    .dataframe tbody tr th:only-of-type {\n        vertical-align: middle;\n    }\n\n    .dataframe tbody tr th {\n        vertical-align: top;\n    }\n\n    .dataframe thead th {\n        text-align: right;\n    }\n</style>\n<table border=\"1\" class=\"dataframe\">\n  <thead>\n    <tr style=\"text-align: right;\">\n      <th></th>\n      <th>Population Label</th>\n      <th>2019</th>\n    </tr>\n  </thead>\n  <tbody>\n    <tr>\n      <th>0</th>\n      <td>Estimate Total Male</td>\n      <td>161588973</td>\n    </tr>\n    <tr>\n      <th>1</th>\n      <td>Estimate Total Male Under 5 years</td>\n      <td>9938937</td>\n    </tr>\n    <tr>\n      <th>2</th>\n      <td>Estimate Total Male 5 to 9 years</td>\n      <td>10033518</td>\n    </tr>\n    <tr>\n      <th>3</th>\n      <td>Estimate Total Male 10 to 14 years</td>\n      <td>10987313</td>\n    </tr>\n    <tr>\n      <th>4</th>\n      <td>Estimate Total Male 15 to 17 years</td>\n      <td>6361859</td>\n    </tr>\n    <tr>\n      <th>5</th>\n      <td>Estimate Total Male 18 and 19 years</td>\n      <td>4541794</td>\n    </tr>\n    <tr>\n      <th>6</th>\n      <td>Estimate Total Male 20 years</td>\n      <td>2318283</td>\n    </tr>\n    <tr>\n      <th>7</th>\n      <td>Estimate Total Male 21 years</td>\n      <td>2257008</td>\n    </tr>\n    <tr>\n      <th>8</th>\n      <td>Estimate Total Male 22 to 24 years</td>\n      <td>6439169</td>\n    </tr>\n    <tr>\n      <th>9</th>\n      <td>Estimate Total Male 25 to 29 years</td>\n      <td>11817829</td>\n    </tr>\n    <tr>\n      <th>10</th>\n      <td>Estimate Total Male 30 to 34 years</td>\n      <td>11281470</td>\n    </tr>\n    <tr>\n      <th>11</th>\n      <td>Estimate Total Male 35 to 39 years</td>\n      <td>10892040</td>\n    </tr>\n    <tr>\n      <th>12</th>\n      <td>Estimate Total Male 40 to 44 years</td>\n      <td>10028675</td>\n    </tr>\n    <tr>\n      <th>13</th>\n      <td>Estimate Total Male 45 to 49 years</td>\n      <td>10079567</td>\n    </tr>\n    <tr>\n      <th>14</th>\n      <td>Estimate Total Male 50 to 54 years</td>\n      <td>10075795</td>\n    </tr>\n    <tr>\n      <th>15</th>\n      <td>Estimate Total Male 55 to 59 years</td>\n      <td>10440265</td>\n    </tr>\n    <tr>\n      <th>16</th>\n      <td>Estimate Total Male 60 and 61 years</td>\n      <td>4168435</td>\n    </tr>\n    <tr>\n      <th>17</th>\n      <td>Estimate Total Male 62 to 64 years</td>\n      <td>5882735</td>\n    </tr>\n    <tr>\n      <th>18</th>\n      <td>Estimate Total Male 65 and 66 years</td>\n      <td>3538792</td>\n    </tr>\n    <tr>\n      <th>19</th>\n      <td>Estimate Total Male 67 to 69 years</td>\n      <td>4652319</td>\n    </tr>\n    <tr>\n      <th>20</th>\n      <td>Estimate Total Male 70 to 74 years</td>\n      <td>6529918</td>\n    </tr>\n    <tr>\n      <th>21</th>\n      <td>Estimate Total Male 75 to 79 years</td>\n      <td>4367764</td>\n    </tr>\n    <tr>\n      <th>22</th>\n      <td>Estimate Total Male 80 to 84 years</td>\n      <td>2671396</td>\n    </tr>\n    <tr>\n      <th>23</th>\n      <td>Estimate Total Male 85 years and over</td>\n      <td>2284092</td>\n    </tr>\n  </tbody>\n</table>\n</div>"
     },
     "execution_count": 22,
     "metadata": {},
     "output_type": "execute_result"
    }
   ],
   "source": [
    "df_2019 = create_male_pop_by_age_df(2019).reset_index().rename({'index': 'Population Label'}, axis=1)\n",
    "df_2019"
   ],
   "metadata": {
    "collapsed": false,
    "pycharm": {
     "name": "#%%\n"
    }
   }
  },
  {
   "cell_type": "code",
   "execution_count": 25,
   "outputs": [
    {
     "data": {
      "text/plain": "                         Population Label       2018       2019\n0                     Estimate Total Male  161118151  161588973\n1       Estimate Total Male Under 5 years   10047966    9938937\n2        Estimate Total Male 5 to 9 years   10095699   10033518\n3      Estimate Total Male 10 to 14 years   11000943   10987313\n4      Estimate Total Male 15 to 17 years    6394674    6361859\n5     Estimate Total Male 18 and 19 years    4578048    4541794\n6            Estimate Total Male 20 years    2334371    2318283\n7            Estimate Total Male 21 years    2261277    2257008\n8      Estimate Total Male 22 to 24 years    6526051    6439169\n9      Estimate Total Male 25 to 29 years   11869477   11817829\n10     Estimate Total Male 30 to 34 years   11111452   11281470\n11     Estimate Total Male 35 to 39 years   10790784   10892040\n12     Estimate Total Male 40 to 44 years    9900261   10028675\n13     Estimate Total Male 45 to 49 years   10253794   10079567\n14     Estimate Total Male 50 to 54 years   10266496   10075795\n15     Estimate Total Male 55 to 59 years   10515549   10440265\n16    Estimate Total Male 60 and 61 years    4134525    4168435\n17     Estimate Total Male 62 to 64 years    5745886    5882735\n18    Estimate Total Male 65 and 66 years    3437352    3538792\n19     Estimate Total Male 67 to 69 years    4618529    4652319\n20     Estimate Total Male 70 to 74 years    6221547    6529918\n21     Estimate Total Male 75 to 79 years    4195815    4367764\n22     Estimate Total Male 80 to 84 years    2591562    2671396\n23  Estimate Total Male 85 years and over    2226093    2284092",
      "text/html": "<div>\n<style scoped>\n    .dataframe tbody tr th:only-of-type {\n        vertical-align: middle;\n    }\n\n    .dataframe tbody tr th {\n        vertical-align: top;\n    }\n\n    .dataframe thead th {\n        text-align: right;\n    }\n</style>\n<table border=\"1\" class=\"dataframe\">\n  <thead>\n    <tr style=\"text-align: right;\">\n      <th></th>\n      <th>Population Label</th>\n      <th>2018</th>\n      <th>2019</th>\n    </tr>\n  </thead>\n  <tbody>\n    <tr>\n      <th>0</th>\n      <td>Estimate Total Male</td>\n      <td>161118151</td>\n      <td>161588973</td>\n    </tr>\n    <tr>\n      <th>1</th>\n      <td>Estimate Total Male Under 5 years</td>\n      <td>10047966</td>\n      <td>9938937</td>\n    </tr>\n    <tr>\n      <th>2</th>\n      <td>Estimate Total Male 5 to 9 years</td>\n      <td>10095699</td>\n      <td>10033518</td>\n    </tr>\n    <tr>\n      <th>3</th>\n      <td>Estimate Total Male 10 to 14 years</td>\n      <td>11000943</td>\n      <td>10987313</td>\n    </tr>\n    <tr>\n      <th>4</th>\n      <td>Estimate Total Male 15 to 17 years</td>\n      <td>6394674</td>\n      <td>6361859</td>\n    </tr>\n    <tr>\n      <th>5</th>\n      <td>Estimate Total Male 18 and 19 years</td>\n      <td>4578048</td>\n      <td>4541794</td>\n    </tr>\n    <tr>\n      <th>6</th>\n      <td>Estimate Total Male 20 years</td>\n      <td>2334371</td>\n      <td>2318283</td>\n    </tr>\n    <tr>\n      <th>7</th>\n      <td>Estimate Total Male 21 years</td>\n      <td>2261277</td>\n      <td>2257008</td>\n    </tr>\n    <tr>\n      <th>8</th>\n      <td>Estimate Total Male 22 to 24 years</td>\n      <td>6526051</td>\n      <td>6439169</td>\n    </tr>\n    <tr>\n      <th>9</th>\n      <td>Estimate Total Male 25 to 29 years</td>\n      <td>11869477</td>\n      <td>11817829</td>\n    </tr>\n    <tr>\n      <th>10</th>\n      <td>Estimate Total Male 30 to 34 years</td>\n      <td>11111452</td>\n      <td>11281470</td>\n    </tr>\n    <tr>\n      <th>11</th>\n      <td>Estimate Total Male 35 to 39 years</td>\n      <td>10790784</td>\n      <td>10892040</td>\n    </tr>\n    <tr>\n      <th>12</th>\n      <td>Estimate Total Male 40 to 44 years</td>\n      <td>9900261</td>\n      <td>10028675</td>\n    </tr>\n    <tr>\n      <th>13</th>\n      <td>Estimate Total Male 45 to 49 years</td>\n      <td>10253794</td>\n      <td>10079567</td>\n    </tr>\n    <tr>\n      <th>14</th>\n      <td>Estimate Total Male 50 to 54 years</td>\n      <td>10266496</td>\n      <td>10075795</td>\n    </tr>\n    <tr>\n      <th>15</th>\n      <td>Estimate Total Male 55 to 59 years</td>\n      <td>10515549</td>\n      <td>10440265</td>\n    </tr>\n    <tr>\n      <th>16</th>\n      <td>Estimate Total Male 60 and 61 years</td>\n      <td>4134525</td>\n      <td>4168435</td>\n    </tr>\n    <tr>\n      <th>17</th>\n      <td>Estimate Total Male 62 to 64 years</td>\n      <td>5745886</td>\n      <td>5882735</td>\n    </tr>\n    <tr>\n      <th>18</th>\n      <td>Estimate Total Male 65 and 66 years</td>\n      <td>3437352</td>\n      <td>3538792</td>\n    </tr>\n    <tr>\n      <th>19</th>\n      <td>Estimate Total Male 67 to 69 years</td>\n      <td>4618529</td>\n      <td>4652319</td>\n    </tr>\n    <tr>\n      <th>20</th>\n      <td>Estimate Total Male 70 to 74 years</td>\n      <td>6221547</td>\n      <td>6529918</td>\n    </tr>\n    <tr>\n      <th>21</th>\n      <td>Estimate Total Male 75 to 79 years</td>\n      <td>4195815</td>\n      <td>4367764</td>\n    </tr>\n    <tr>\n      <th>22</th>\n      <td>Estimate Total Male 80 to 84 years</td>\n      <td>2591562</td>\n      <td>2671396</td>\n    </tr>\n    <tr>\n      <th>23</th>\n      <td>Estimate Total Male 85 years and over</td>\n      <td>2226093</td>\n      <td>2284092</td>\n    </tr>\n  </tbody>\n</table>\n</div>"
     },
     "execution_count": 25,
     "metadata": {},
     "output_type": "execute_result"
    }
   ],
   "source": [
    "df_2018.merge(df_2019, on='Population Label')"
   ],
   "metadata": {
    "collapsed": false,
    "pycharm": {
     "name": "#%%\n"
    }
   }
  },
  {
   "cell_type": "code",
   "execution_count": 39,
   "outputs": [
    {
     "data": {
      "text/plain": "                         Population Label       2019\n0                     Estimate Total Male  161588973\n1       Estimate Total Male Under 5 years    9938937\n2        Estimate Total Male 5 to 9 years   10033518\n3      Estimate Total Male 10 to 14 years   10987313\n4      Estimate Total Male 15 to 17 years    6361859\n5     Estimate Total Male 18 and 19 years    4541794\n6            Estimate Total Male 20 years    2318283\n7            Estimate Total Male 21 years    2257008\n8      Estimate Total Male 22 to 24 years    6439169\n9      Estimate Total Male 25 to 29 years   11817829\n10     Estimate Total Male 30 to 34 years   11281470\n11     Estimate Total Male 35 to 39 years   10892040\n12     Estimate Total Male 40 to 44 years   10028675\n13     Estimate Total Male 45 to 49 years   10079567\n14     Estimate Total Male 50 to 54 years   10075795\n15     Estimate Total Male 55 to 59 years   10440265\n16    Estimate Total Male 60 and 61 years    4168435\n17     Estimate Total Male 62 to 64 years    5882735\n18    Estimate Total Male 65 and 66 years    3538792\n19     Estimate Total Male 67 to 69 years    4652319\n20     Estimate Total Male 70 to 74 years    6529918\n21     Estimate Total Male 75 to 79 years    4367764\n22     Estimate Total Male 80 to 84 years    2671396\n23  Estimate Total Male 85 years and over    2284092",
      "text/html": "<div>\n<style scoped>\n    .dataframe tbody tr th:only-of-type {\n        vertical-align: middle;\n    }\n\n    .dataframe tbody tr th {\n        vertical-align: top;\n    }\n\n    .dataframe thead th {\n        text-align: right;\n    }\n</style>\n<table border=\"1\" class=\"dataframe\">\n  <thead>\n    <tr style=\"text-align: right;\">\n      <th></th>\n      <th>Population Label</th>\n      <th>2019</th>\n    </tr>\n  </thead>\n  <tbody>\n    <tr>\n      <th>0</th>\n      <td>Estimate Total Male</td>\n      <td>161588973</td>\n    </tr>\n    <tr>\n      <th>1</th>\n      <td>Estimate Total Male Under 5 years</td>\n      <td>9938937</td>\n    </tr>\n    <tr>\n      <th>2</th>\n      <td>Estimate Total Male 5 to 9 years</td>\n      <td>10033518</td>\n    </tr>\n    <tr>\n      <th>3</th>\n      <td>Estimate Total Male 10 to 14 years</td>\n      <td>10987313</td>\n    </tr>\n    <tr>\n      <th>4</th>\n      <td>Estimate Total Male 15 to 17 years</td>\n      <td>6361859</td>\n    </tr>\n    <tr>\n      <th>5</th>\n      <td>Estimate Total Male 18 and 19 years</td>\n      <td>4541794</td>\n    </tr>\n    <tr>\n      <th>6</th>\n      <td>Estimate Total Male 20 years</td>\n      <td>2318283</td>\n    </tr>\n    <tr>\n      <th>7</th>\n      <td>Estimate Total Male 21 years</td>\n      <td>2257008</td>\n    </tr>\n    <tr>\n      <th>8</th>\n      <td>Estimate Total Male 22 to 24 years</td>\n      <td>6439169</td>\n    </tr>\n    <tr>\n      <th>9</th>\n      <td>Estimate Total Male 25 to 29 years</td>\n      <td>11817829</td>\n    </tr>\n    <tr>\n      <th>10</th>\n      <td>Estimate Total Male 30 to 34 years</td>\n      <td>11281470</td>\n    </tr>\n    <tr>\n      <th>11</th>\n      <td>Estimate Total Male 35 to 39 years</td>\n      <td>10892040</td>\n    </tr>\n    <tr>\n      <th>12</th>\n      <td>Estimate Total Male 40 to 44 years</td>\n      <td>10028675</td>\n    </tr>\n    <tr>\n      <th>13</th>\n      <td>Estimate Total Male 45 to 49 years</td>\n      <td>10079567</td>\n    </tr>\n    <tr>\n      <th>14</th>\n      <td>Estimate Total Male 50 to 54 years</td>\n      <td>10075795</td>\n    </tr>\n    <tr>\n      <th>15</th>\n      <td>Estimate Total Male 55 to 59 years</td>\n      <td>10440265</td>\n    </tr>\n    <tr>\n      <th>16</th>\n      <td>Estimate Total Male 60 and 61 years</td>\n      <td>4168435</td>\n    </tr>\n    <tr>\n      <th>17</th>\n      <td>Estimate Total Male 62 to 64 years</td>\n      <td>5882735</td>\n    </tr>\n    <tr>\n      <th>18</th>\n      <td>Estimate Total Male 65 and 66 years</td>\n      <td>3538792</td>\n    </tr>\n    <tr>\n      <th>19</th>\n      <td>Estimate Total Male 67 to 69 years</td>\n      <td>4652319</td>\n    </tr>\n    <tr>\n      <th>20</th>\n      <td>Estimate Total Male 70 to 74 years</td>\n      <td>6529918</td>\n    </tr>\n    <tr>\n      <th>21</th>\n      <td>Estimate Total Male 75 to 79 years</td>\n      <td>4367764</td>\n    </tr>\n    <tr>\n      <th>22</th>\n      <td>Estimate Total Male 80 to 84 years</td>\n      <td>2671396</td>\n    </tr>\n    <tr>\n      <th>23</th>\n      <td>Estimate Total Male 85 years and over</td>\n      <td>2284092</td>\n    </tr>\n  </tbody>\n</table>\n</div>"
     },
     "execution_count": 39,
     "metadata": {},
     "output_type": "execute_result"
    }
   ],
   "source": [
    "df = pd.DataFrame(columns=['Population Label'])\n",
    "df = pd.merge(df, df_2019, how='outer', on='Population Label')\n",
    "df"
   ],
   "metadata": {
    "collapsed": false,
    "pycharm": {
     "name": "#%%\n"
    }
   }
  },
  {
   "cell_type": "code",
   "execution_count": 40,
   "outputs": [
    {
     "data": {
      "text/plain": "                         Population Label       2019       2018\n0                     Estimate Total Male  161588973  161118151\n1       Estimate Total Male Under 5 years    9938937   10047966\n2        Estimate Total Male 5 to 9 years   10033518   10095699\n3      Estimate Total Male 10 to 14 years   10987313   11000943\n4      Estimate Total Male 15 to 17 years    6361859    6394674\n5     Estimate Total Male 18 and 19 years    4541794    4578048\n6            Estimate Total Male 20 years    2318283    2334371\n7            Estimate Total Male 21 years    2257008    2261277\n8      Estimate Total Male 22 to 24 years    6439169    6526051\n9      Estimate Total Male 25 to 29 years   11817829   11869477\n10     Estimate Total Male 30 to 34 years   11281470   11111452\n11     Estimate Total Male 35 to 39 years   10892040   10790784\n12     Estimate Total Male 40 to 44 years   10028675    9900261\n13     Estimate Total Male 45 to 49 years   10079567   10253794\n14     Estimate Total Male 50 to 54 years   10075795   10266496\n15     Estimate Total Male 55 to 59 years   10440265   10515549\n16    Estimate Total Male 60 and 61 years    4168435    4134525\n17     Estimate Total Male 62 to 64 years    5882735    5745886\n18    Estimate Total Male 65 and 66 years    3538792    3437352\n19     Estimate Total Male 67 to 69 years    4652319    4618529\n20     Estimate Total Male 70 to 74 years    6529918    6221547\n21     Estimate Total Male 75 to 79 years    4367764    4195815\n22     Estimate Total Male 80 to 84 years    2671396    2591562\n23  Estimate Total Male 85 years and over    2284092    2226093",
      "text/html": "<div>\n<style scoped>\n    .dataframe tbody tr th:only-of-type {\n        vertical-align: middle;\n    }\n\n    .dataframe tbody tr th {\n        vertical-align: top;\n    }\n\n    .dataframe thead th {\n        text-align: right;\n    }\n</style>\n<table border=\"1\" class=\"dataframe\">\n  <thead>\n    <tr style=\"text-align: right;\">\n      <th></th>\n      <th>Population Label</th>\n      <th>2019</th>\n      <th>2018</th>\n    </tr>\n  </thead>\n  <tbody>\n    <tr>\n      <th>0</th>\n      <td>Estimate Total Male</td>\n      <td>161588973</td>\n      <td>161118151</td>\n    </tr>\n    <tr>\n      <th>1</th>\n      <td>Estimate Total Male Under 5 years</td>\n      <td>9938937</td>\n      <td>10047966</td>\n    </tr>\n    <tr>\n      <th>2</th>\n      <td>Estimate Total Male 5 to 9 years</td>\n      <td>10033518</td>\n      <td>10095699</td>\n    </tr>\n    <tr>\n      <th>3</th>\n      <td>Estimate Total Male 10 to 14 years</td>\n      <td>10987313</td>\n      <td>11000943</td>\n    </tr>\n    <tr>\n      <th>4</th>\n      <td>Estimate Total Male 15 to 17 years</td>\n      <td>6361859</td>\n      <td>6394674</td>\n    </tr>\n    <tr>\n      <th>5</th>\n      <td>Estimate Total Male 18 and 19 years</td>\n      <td>4541794</td>\n      <td>4578048</td>\n    </tr>\n    <tr>\n      <th>6</th>\n      <td>Estimate Total Male 20 years</td>\n      <td>2318283</td>\n      <td>2334371</td>\n    </tr>\n    <tr>\n      <th>7</th>\n      <td>Estimate Total Male 21 years</td>\n      <td>2257008</td>\n      <td>2261277</td>\n    </tr>\n    <tr>\n      <th>8</th>\n      <td>Estimate Total Male 22 to 24 years</td>\n      <td>6439169</td>\n      <td>6526051</td>\n    </tr>\n    <tr>\n      <th>9</th>\n      <td>Estimate Total Male 25 to 29 years</td>\n      <td>11817829</td>\n      <td>11869477</td>\n    </tr>\n    <tr>\n      <th>10</th>\n      <td>Estimate Total Male 30 to 34 years</td>\n      <td>11281470</td>\n      <td>11111452</td>\n    </tr>\n    <tr>\n      <th>11</th>\n      <td>Estimate Total Male 35 to 39 years</td>\n      <td>10892040</td>\n      <td>10790784</td>\n    </tr>\n    <tr>\n      <th>12</th>\n      <td>Estimate Total Male 40 to 44 years</td>\n      <td>10028675</td>\n      <td>9900261</td>\n    </tr>\n    <tr>\n      <th>13</th>\n      <td>Estimate Total Male 45 to 49 years</td>\n      <td>10079567</td>\n      <td>10253794</td>\n    </tr>\n    <tr>\n      <th>14</th>\n      <td>Estimate Total Male 50 to 54 years</td>\n      <td>10075795</td>\n      <td>10266496</td>\n    </tr>\n    <tr>\n      <th>15</th>\n      <td>Estimate Total Male 55 to 59 years</td>\n      <td>10440265</td>\n      <td>10515549</td>\n    </tr>\n    <tr>\n      <th>16</th>\n      <td>Estimate Total Male 60 and 61 years</td>\n      <td>4168435</td>\n      <td>4134525</td>\n    </tr>\n    <tr>\n      <th>17</th>\n      <td>Estimate Total Male 62 to 64 years</td>\n      <td>5882735</td>\n      <td>5745886</td>\n    </tr>\n    <tr>\n      <th>18</th>\n      <td>Estimate Total Male 65 and 66 years</td>\n      <td>3538792</td>\n      <td>3437352</td>\n    </tr>\n    <tr>\n      <th>19</th>\n      <td>Estimate Total Male 67 to 69 years</td>\n      <td>4652319</td>\n      <td>4618529</td>\n    </tr>\n    <tr>\n      <th>20</th>\n      <td>Estimate Total Male 70 to 74 years</td>\n      <td>6529918</td>\n      <td>6221547</td>\n    </tr>\n    <tr>\n      <th>21</th>\n      <td>Estimate Total Male 75 to 79 years</td>\n      <td>4367764</td>\n      <td>4195815</td>\n    </tr>\n    <tr>\n      <th>22</th>\n      <td>Estimate Total Male 80 to 84 years</td>\n      <td>2671396</td>\n      <td>2591562</td>\n    </tr>\n    <tr>\n      <th>23</th>\n      <td>Estimate Total Male 85 years and over</td>\n      <td>2284092</td>\n      <td>2226093</td>\n    </tr>\n  </tbody>\n</table>\n</div>"
     },
     "execution_count": 40,
     "metadata": {},
     "output_type": "execute_result"
    }
   ],
   "source": [
    "df = pd.merge(df, df_2018, how='outer', on='Population Label')\n",
    "df"
   ],
   "metadata": {
    "collapsed": false,
    "pycharm": {
     "name": "#%%\n"
    }
   }
  },
  {
   "cell_type": "code",
   "execution_count": null,
   "outputs": [],
   "source": [],
   "metadata": {
    "collapsed": false,
    "pycharm": {
     "name": "#%%\n"
    }
   }
  }
 ],
 "metadata": {
  "kernelspec": {
   "display_name": "Python 3",
   "language": "python",
   "name": "python3"
  },
  "language_info": {
   "codemirror_mode": {
    "name": "ipython",
    "version": 2
   },
   "file_extension": ".py",
   "mimetype": "text/x-python",
   "name": "python",
   "nbconvert_exporter": "python",
   "pygments_lexer": "ipython2",
   "version": "2.7.6"
  }
 },
 "nbformat": 4,
 "nbformat_minor": 0
}