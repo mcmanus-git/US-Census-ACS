{
 "cells": [
  {
   "cell_type": "code",
   "execution_count": 1,
   "metadata": {
    "collapsed": true
   },
   "outputs": [],
   "source": [
    "from MyCreds.mycreds import USCensusAPI\n",
    "import requests\n",
    "import pandas as pd"
   ]
  },
  {
   "cell_type": "code",
   "execution_count": 27,
   "outputs": [],
   "source": [
    "# API Reference: https://www.census.gov/data/developers/guidance/api-user-guide.Example_API_Queries.html\n",
    "host = 'https://api.census.gov/data'\n",
    "year = '/2019'\n",
    "# Data Dictionary: https://api.census.gov/data.html\n",
    "dataset_acronym = '/acs/acs1'\n",
    "g = '?get='\n",
    "# Variables for the ACS: https://api.census.gov/data/2005/acs/acs1/variables.html\n",
    "variables = 'NAME,B01001_001E'\n",
    "location = '&for=us:*'\n",
    "usr_key = f\"&key={USCensusAPI.api_key}\"\n",
    "\n",
    "query_url = f\"{host}{year}{dataset_acronym}{g}{variables}{location}{usr_key}\""
   ],
   "metadata": {
    "collapsed": false,
    "pycharm": {
     "name": "#%%\n"
    }
   }
  },
  {
   "cell_type": "code",
   "execution_count": 28,
   "outputs": [],
   "source": [
    "response = requests.get(query_url)"
   ],
   "metadata": {
    "collapsed": false,
    "pycharm": {
     "name": "#%%\n"
    }
   }
  },
  {
   "cell_type": "code",
   "execution_count": 29,
   "outputs": [
    {
     "name": "stdout",
     "output_type": "stream",
     "text": [
      "[[\"NAME\",\"B01001_001E\",\"us\"],\n",
      "[\"United States\",\"328239523\",\"1\"]]\n"
     ]
    }
   ],
   "source": [
    "print(response.text)"
   ],
   "metadata": {
    "collapsed": false,
    "pycharm": {
     "name": "#%%\n"
    }
   }
  },
  {
   "cell_type": "markdown",
   "source": [
    "B01001_001E is Estimated Total: Sex by Age without delineation.  In other words, this query is basically just returning 328,239,523 which is the total estimated US population in 2019."
   ],
   "metadata": {
    "collapsed": false,
    "pycharm": {
     "name": "#%% md\n"
    }
   }
  },
  {
   "cell_type": "markdown",
   "source": [
    "Rather than going through and copying all the variable names from the reference table, I'm going to try and make things easier on myself and see if I can't just read that table in with pandas and extract the variable names."
   ],
   "metadata": {
    "collapsed": false,
    "pycharm": {
     "name": "#%% md\n"
    }
   }
  },
  {
   "cell_type": "code",
   "execution_count": 31,
   "outputs": [
    {
     "name": "stderr",
     "output_type": "stream",
     "text": [
      "/Users/msmcmanus/opt/anaconda3/lib/python3.8/site-packages/IPython/core/interactiveshell.py:3361: DtypeWarning: Columns (6) have mixed types.Specify dtype option on import or set low_memory=False.\n",
      "  if (await self.run_code(code, result,  async_=asy)):\n"
     ]
    },
    {
     "data": {
      "text/plain": "                                               Unnamed: 0  Unnamed: 1  \\\n0                                                     NaN         NaN   \n1                                                     NaN         NaN   \n2                                                     NaN         NaN   \n3                                                     NaN         NaN   \n4                           .tagquery tr td { vertical...         NaN   \n...                                                   ...         ...   \n178279                                              </tr>         NaN   \n178280                                           </tbody>         NaN   \n178281                                           </table>         NaN   \n178282                                            </body>         NaN   \n178283                                            </html>         NaN   \n\n        Unnamed: 2  Unnamed: 3  Unnamed: 4 Unnamed: 5     text-align: right;  \n0              NaN         NaN         NaN        NaN    padding-right: 1em;  \n1              NaN         NaN         NaN        NaN            width: 3em;  \n2              NaN         NaN         NaN        NaN  //font-size: smaller;  \n3              NaN         NaN         NaN          }                    NaN  \n4              NaN         NaN         NaN        NaN                    NaN  \n...            ...         ...         ...        ...                    ...  \n178279         NaN         NaN         NaN        NaN                    NaN  \n178280         NaN         NaN         NaN        NaN                    NaN  \n178281         NaN         NaN         NaN        NaN                    NaN  \n178282         NaN         NaN         NaN        NaN                    NaN  \n178283         NaN         NaN         NaN        NaN                    NaN  \n\n[178284 rows x 7 columns]",
      "text/html": "<div>\n<style scoped>\n    .dataframe tbody tr th:only-of-type {\n        vertical-align: middle;\n    }\n\n    .dataframe tbody tr th {\n        vertical-align: top;\n    }\n\n    .dataframe thead th {\n        text-align: right;\n    }\n</style>\n<table border=\"1\" class=\"dataframe\">\n  <thead>\n    <tr style=\"text-align: right;\">\n      <th></th>\n      <th>Unnamed: 0</th>\n      <th>Unnamed: 1</th>\n      <th>Unnamed: 2</th>\n      <th>Unnamed: 3</th>\n      <th>Unnamed: 4</th>\n      <th>Unnamed: 5</th>\n      <th>text-align: right;</th>\n    </tr>\n  </thead>\n  <tbody>\n    <tr>\n      <th>0</th>\n      <td>NaN</td>\n      <td>NaN</td>\n      <td>NaN</td>\n      <td>NaN</td>\n      <td>NaN</td>\n      <td>NaN</td>\n      <td>padding-right: 1em;</td>\n    </tr>\n    <tr>\n      <th>1</th>\n      <td>NaN</td>\n      <td>NaN</td>\n      <td>NaN</td>\n      <td>NaN</td>\n      <td>NaN</td>\n      <td>NaN</td>\n      <td>width: 3em;</td>\n    </tr>\n    <tr>\n      <th>2</th>\n      <td>NaN</td>\n      <td>NaN</td>\n      <td>NaN</td>\n      <td>NaN</td>\n      <td>NaN</td>\n      <td>NaN</td>\n      <td>//font-size: smaller;</td>\n    </tr>\n    <tr>\n      <th>3</th>\n      <td>NaN</td>\n      <td>NaN</td>\n      <td>NaN</td>\n      <td>NaN</td>\n      <td>NaN</td>\n      <td>}</td>\n      <td>NaN</td>\n    </tr>\n    <tr>\n      <th>4</th>\n      <td>.tagquery tr td { vertical...</td>\n      <td>NaN</td>\n      <td>NaN</td>\n      <td>NaN</td>\n      <td>NaN</td>\n      <td>NaN</td>\n      <td>NaN</td>\n    </tr>\n    <tr>\n      <th>...</th>\n      <td>...</td>\n      <td>...</td>\n      <td>...</td>\n      <td>...</td>\n      <td>...</td>\n      <td>...</td>\n      <td>...</td>\n    </tr>\n    <tr>\n      <th>178279</th>\n      <td>&lt;/tr&gt;</td>\n      <td>NaN</td>\n      <td>NaN</td>\n      <td>NaN</td>\n      <td>NaN</td>\n      <td>NaN</td>\n      <td>NaN</td>\n    </tr>\n    <tr>\n      <th>178280</th>\n      <td>&lt;/tbody&gt;</td>\n      <td>NaN</td>\n      <td>NaN</td>\n      <td>NaN</td>\n      <td>NaN</td>\n      <td>NaN</td>\n      <td>NaN</td>\n    </tr>\n    <tr>\n      <th>178281</th>\n      <td>&lt;/table&gt;</td>\n      <td>NaN</td>\n      <td>NaN</td>\n      <td>NaN</td>\n      <td>NaN</td>\n      <td>NaN</td>\n      <td>NaN</td>\n    </tr>\n    <tr>\n      <th>178282</th>\n      <td>&lt;/body&gt;</td>\n      <td>NaN</td>\n      <td>NaN</td>\n      <td>NaN</td>\n      <td>NaN</td>\n      <td>NaN</td>\n      <td>NaN</td>\n    </tr>\n    <tr>\n      <th>178283</th>\n      <td>&lt;/html&gt;</td>\n      <td>NaN</td>\n      <td>NaN</td>\n      <td>NaN</td>\n      <td>NaN</td>\n      <td>NaN</td>\n      <td>NaN</td>\n    </tr>\n  </tbody>\n</table>\n<p>178284 rows × 7 columns</p>\n</div>"
     },
     "execution_count": 31,
     "metadata": {},
     "output_type": "execute_result"
    }
   ],
   "source": [
    "variable_table_url = 'https://api.census.gov/data/2019/acs/acs1/variables.html'\n",
    "v_table = pd.read_table(variable_table_url, skiprows=59)\n",
    "v_table"
   ],
   "metadata": {
    "collapsed": false,
    "pycharm": {
     "name": "#%%\n"
    }
   }
  },
  {
   "cell_type": "markdown",
   "source": [
    "Well, line 59 threw an error so I skipped it but the results aren't good. Because I'm too tired and lazy right now to figure out how to make that work properly, I'm going to give read_html a shot really quick."
   ],
   "metadata": {
    "collapsed": false,
    "pycharm": {
     "name": "#%% md\n"
    }
   }
  },
  {
   "cell_type": "code",
   "execution_count": 32,
   "outputs": [
    {
     "data": {
      "text/plain": "[                  Name                                       Label  \\\n 0               AIANHH                                   Geography   \n 1                 ANRC                                   Geography   \n 2          B01001_001E                            Estimate!!Total:   \n 3          B01001_002E                     Estimate!!Total:!!Male:   \n 4          B01001_003E      Estimate!!Total:!!Male:!!Under 5 years   \n ...                ...                                         ...   \n 35551            STATE                                   Geography   \n 35552         SUMLEVEL                          Summary Level code   \n 35553               UA                                   Geography   \n 35554            ucgid  Uniform Census Geography Identifier clause   \n 35555  35555 variables                             35555 variables   \n \n                                   Concept         Required  \\\n 0                                     NaN     not required   \n 1                                     NaN     not required   \n 2                              SEX BY AGE     not required   \n 3                              SEX BY AGE     not required   \n 4                              SEX BY AGE     not required   \n ...                                   ...              ...   \n 35551                                 NaN     not required   \n 35552                                 NaN     not required   \n 35553                                 NaN     not required   \n 35554  Census API Geography Specification   predicate-only   \n 35555                     35555 variables  35555 variables   \n \n                                       Attributes            Limit  \\\n 0                                            NaN                0   \n 1                                            NaN                0   \n 2      B01001_001EA,  B01001_001M,  B01001_001MA                0   \n 3      B01001_002EA,  B01001_002M,  B01001_002MA                0   \n 4      B01001_003EA,  B01001_003M,  B01001_003MA                0   \n ...                                          ...              ...   \n 35551                                        NaN                0   \n 35552                                        NaN                0   \n 35553                                        NaN                0   \n 35554                                        NaN                0   \n 35555                            35555 variables  35555 variables   \n \n           Predicate Type            Group       Unnamed: 8  \n 0      (not a predicate)              NaN              NaN  \n 1      (not a predicate)              NaN              NaN  \n 2                    int           B01001              NaN  \n 3                    int           B01001              NaN  \n 4                    int           B01001              NaN  \n ...                  ...              ...              ...  \n 35551  (not a predicate)              NaN              NaN  \n 35552             string              NaN              NaN  \n 35553  (not a predicate)              NaN              NaN  \n 35554              ucgid              NaN              NaN  \n 35555    35555 variables  35555 variables  35555 variables  \n \n [35556 rows x 9 columns]]"
     },
     "execution_count": 32,
     "metadata": {},
     "output_type": "execute_result"
    }
   ],
   "source": [
    "variable_table_url = 'https://api.census.gov/data/2019/acs/acs1/variables.html'\n",
    "v_table = pd.read_html(variable_table_url)\n",
    "v_table"
   ],
   "metadata": {
    "collapsed": false,
    "pycharm": {
     "name": "#%%\n"
    }
   }
  },
  {
   "cell_type": "code",
   "execution_count": 33,
   "outputs": [
    {
     "data": {
      "text/plain": "list"
     },
     "execution_count": 33,
     "metadata": {},
     "output_type": "execute_result"
    }
   ],
   "source": [
    "type(v_table)"
   ],
   "metadata": {
    "collapsed": false,
    "pycharm": {
     "name": "#%%\n"
    }
   }
  },
  {
   "cell_type": "code",
   "execution_count": 37,
   "outputs": [
    {
     "data": {
      "text/plain": "                  Name                                       Label  \\\n0               AIANHH                                   Geography   \n1                 ANRC                                   Geography   \n2          B01001_001E                            Estimate!!Total:   \n3          B01001_002E                     Estimate!!Total:!!Male:   \n4          B01001_003E      Estimate!!Total:!!Male:!!Under 5 years   \n...                ...                                         ...   \n35551            STATE                                   Geography   \n35552         SUMLEVEL                          Summary Level code   \n35553               UA                                   Geography   \n35554            ucgid  Uniform Census Geography Identifier clause   \n35555  35555 variables                             35555 variables   \n\n                                  Concept         Required  \\\n0                                     NaN     not required   \n1                                     NaN     not required   \n2                              SEX BY AGE     not required   \n3                              SEX BY AGE     not required   \n4                              SEX BY AGE     not required   \n...                                   ...              ...   \n35551                                 NaN     not required   \n35552                                 NaN     not required   \n35553                                 NaN     not required   \n35554  Census API Geography Specification   predicate-only   \n35555                     35555 variables  35555 variables   \n\n                                      Attributes            Limit  \\\n0                                            NaN                0   \n1                                            NaN                0   \n2      B01001_001EA,  B01001_001M,  B01001_001MA                0   \n3      B01001_002EA,  B01001_002M,  B01001_002MA                0   \n4      B01001_003EA,  B01001_003M,  B01001_003MA                0   \n...                                          ...              ...   \n35551                                        NaN                0   \n35552                                        NaN                0   \n35553                                        NaN                0   \n35554                                        NaN                0   \n35555                            35555 variables  35555 variables   \n\n          Predicate Type            Group       Unnamed: 8  \n0      (not a predicate)              NaN              NaN  \n1      (not a predicate)              NaN              NaN  \n2                    int           B01001              NaN  \n3                    int           B01001              NaN  \n4                    int           B01001              NaN  \n...                  ...              ...              ...  \n35551  (not a predicate)              NaN              NaN  \n35552             string              NaN              NaN  \n35553  (not a predicate)              NaN              NaN  \n35554              ucgid              NaN              NaN  \n35555    35555 variables  35555 variables  35555 variables  \n\n[35556 rows x 9 columns]",
      "text/html": "<div>\n<style scoped>\n    .dataframe tbody tr th:only-of-type {\n        vertical-align: middle;\n    }\n\n    .dataframe tbody tr th {\n        vertical-align: top;\n    }\n\n    .dataframe thead th {\n        text-align: right;\n    }\n</style>\n<table border=\"1\" class=\"dataframe\">\n  <thead>\n    <tr style=\"text-align: right;\">\n      <th></th>\n      <th>Name</th>\n      <th>Label</th>\n      <th>Concept</th>\n      <th>Required</th>\n      <th>Attributes</th>\n      <th>Limit</th>\n      <th>Predicate Type</th>\n      <th>Group</th>\n      <th>Unnamed: 8</th>\n    </tr>\n  </thead>\n  <tbody>\n    <tr>\n      <th>0</th>\n      <td>AIANHH</td>\n      <td>Geography</td>\n      <td>NaN</td>\n      <td>not required</td>\n      <td>NaN</td>\n      <td>0</td>\n      <td>(not a predicate)</td>\n      <td>NaN</td>\n      <td>NaN</td>\n    </tr>\n    <tr>\n      <th>1</th>\n      <td>ANRC</td>\n      <td>Geography</td>\n      <td>NaN</td>\n      <td>not required</td>\n      <td>NaN</td>\n      <td>0</td>\n      <td>(not a predicate)</td>\n      <td>NaN</td>\n      <td>NaN</td>\n    </tr>\n    <tr>\n      <th>2</th>\n      <td>B01001_001E</td>\n      <td>Estimate!!Total:</td>\n      <td>SEX BY AGE</td>\n      <td>not required</td>\n      <td>B01001_001EA,  B01001_001M,  B01001_001MA</td>\n      <td>0</td>\n      <td>int</td>\n      <td>B01001</td>\n      <td>NaN</td>\n    </tr>\n    <tr>\n      <th>3</th>\n      <td>B01001_002E</td>\n      <td>Estimate!!Total:!!Male:</td>\n      <td>SEX BY AGE</td>\n      <td>not required</td>\n      <td>B01001_002EA,  B01001_002M,  B01001_002MA</td>\n      <td>0</td>\n      <td>int</td>\n      <td>B01001</td>\n      <td>NaN</td>\n    </tr>\n    <tr>\n      <th>4</th>\n      <td>B01001_003E</td>\n      <td>Estimate!!Total:!!Male:!!Under 5 years</td>\n      <td>SEX BY AGE</td>\n      <td>not required</td>\n      <td>B01001_003EA,  B01001_003M,  B01001_003MA</td>\n      <td>0</td>\n      <td>int</td>\n      <td>B01001</td>\n      <td>NaN</td>\n    </tr>\n    <tr>\n      <th>...</th>\n      <td>...</td>\n      <td>...</td>\n      <td>...</td>\n      <td>...</td>\n      <td>...</td>\n      <td>...</td>\n      <td>...</td>\n      <td>...</td>\n      <td>...</td>\n    </tr>\n    <tr>\n      <th>35551</th>\n      <td>STATE</td>\n      <td>Geography</td>\n      <td>NaN</td>\n      <td>not required</td>\n      <td>NaN</td>\n      <td>0</td>\n      <td>(not a predicate)</td>\n      <td>NaN</td>\n      <td>NaN</td>\n    </tr>\n    <tr>\n      <th>35552</th>\n      <td>SUMLEVEL</td>\n      <td>Summary Level code</td>\n      <td>NaN</td>\n      <td>not required</td>\n      <td>NaN</td>\n      <td>0</td>\n      <td>string</td>\n      <td>NaN</td>\n      <td>NaN</td>\n    </tr>\n    <tr>\n      <th>35553</th>\n      <td>UA</td>\n      <td>Geography</td>\n      <td>NaN</td>\n      <td>not required</td>\n      <td>NaN</td>\n      <td>0</td>\n      <td>(not a predicate)</td>\n      <td>NaN</td>\n      <td>NaN</td>\n    </tr>\n    <tr>\n      <th>35554</th>\n      <td>ucgid</td>\n      <td>Uniform Census Geography Identifier clause</td>\n      <td>Census API Geography Specification</td>\n      <td>predicate-only</td>\n      <td>NaN</td>\n      <td>0</td>\n      <td>ucgid</td>\n      <td>NaN</td>\n      <td>NaN</td>\n    </tr>\n    <tr>\n      <th>35555</th>\n      <td>35555 variables</td>\n      <td>35555 variables</td>\n      <td>35555 variables</td>\n      <td>35555 variables</td>\n      <td>35555 variables</td>\n      <td>35555 variables</td>\n      <td>35555 variables</td>\n      <td>35555 variables</td>\n      <td>35555 variables</td>\n    </tr>\n  </tbody>\n</table>\n<p>35556 rows × 9 columns</p>\n</div>"
     },
     "execution_count": 37,
     "metadata": {},
     "output_type": "execute_result"
    }
   ],
   "source": [
    "variable_df = pd.DataFrame(v_table[0])\n",
    "variable_df"
   ],
   "metadata": {
    "collapsed": false,
    "pycharm": {
     "name": "#%%\n"
    }
   }
  },
  {
   "cell_type": "markdown",
   "source": [
    "That's more like it!  This will make it easier to automate pulling out multiple variables and giving them more appropriate names than 'B01001_001E', for instance."
   ],
   "metadata": {
    "collapsed": false,
    "pycharm": {
     "name": "#%% md\n"
    }
   }
  },
  {
   "cell_type": "code",
   "execution_count": 45,
   "outputs": [
    {
     "data": {
      "text/plain": "'B01001_003E,B01001_004E,B01001_005E,B01001_006E,B01001_007E,B01001_008E,B01001_009E,B01001_010E,B01001_011E,B01001_012E,B01001_013E,B01001_014E,B01001_015E,B01001_016E,B01001_017E,B01001_018E,B01001_019E,B01001_020E,B01001_021E,B01001_022E,B01001_023E,B01001_024E'"
     },
     "execution_count": 45,
     "metadata": {},
     "output_type": "execute_result"
    }
   ],
   "source": [
    "total_male_by_age_variables = \",\".join(variable_df.iloc[4:26]['Name'].values)\n",
    "total_male_by_age_variables"
   ],
   "metadata": {
    "collapsed": false,
    "pycharm": {
     "name": "#%%\n"
    }
   }
  },
  {
   "cell_type": "markdown",
   "source": [
    "Ok, that gets me a string representation of all the variable names for the male population by age. I just picked those because they were at the top of the list.  I'm going to insert those into the API query and see what we get here."
   ],
   "metadata": {
    "collapsed": false,
    "pycharm": {
     "name": "#%% md\n"
    }
   }
  },
  {
   "cell_type": "code",
   "execution_count": 51,
   "outputs": [],
   "source": [
    "# Only thing changing here is the variables which are substituted in under total_male_by_age_variables\n",
    "m_query_url = f\"{host}{year}{dataset_acronym}{g}{total_male_by_age_variables}{location}{usr_key}\"\n",
    "\n",
    "m_response = requests.get(m_query_url)"
   ],
   "metadata": {
    "collapsed": false,
    "pycharm": {
     "name": "#%%\n"
    }
   }
  },
  {
   "cell_type": "code",
   "execution_count": 52,
   "outputs": [
    {
     "data": {
      "text/plain": "'[[\"B01001_003E\",\"B01001_004E\",\"B01001_005E\",\"B01001_006E\",\"B01001_007E\",\"B01001_008E\",\"B01001_009E\",\"B01001_010E\",\"B01001_011E\",\"B01001_012E\",\"B01001_013E\",\"B01001_014E\",\"B01001_015E\",\"B01001_016E\",\"B01001_017E\",\"B01001_018E\",\"B01001_019E\",\"B01001_020E\",\"B01001_021E\",\"B01001_022E\",\"B01001_023E\",\"B01001_024E\",\"us\"],\\n[\"9938937\",\"10033518\",\"10987313\",\"6361859\",\"4541794\",\"2318283\",\"2257008\",\"6439169\",\"11817829\",\"11281470\",\"10892040\",\"10028675\",\"10079567\",\"10075795\",\"10440265\",\"4168435\",\"5882735\",\"3538792\",\"4652319\",\"6529918\",\"4367764\",\"2671396\",\"1\"]]'"
     },
     "execution_count": 52,
     "metadata": {},
     "output_type": "execute_result"
    }
   ],
   "source": [
    "m_response.text"
   ],
   "metadata": {
    "collapsed": false,
    "pycharm": {
     "name": "#%%\n"
    }
   }
  },
  {
   "cell_type": "code",
   "execution_count": 50,
   "outputs": [],
   "source": [],
   "metadata": {
    "collapsed": false,
    "pycharm": {
     "name": "#%%\n"
    }
   }
  },
  {
   "cell_type": "code",
   "execution_count": null,
   "outputs": [],
   "source": [],
   "metadata": {
    "collapsed": false,
    "pycharm": {
     "name": "#%%\n"
    }
   }
  }
 ],
 "metadata": {
  "kernelspec": {
   "display_name": "Python 3",
   "language": "python",
   "name": "python3"
  },
  "language_info": {
   "codemirror_mode": {
    "name": "ipython",
    "version": 2
   },
   "file_extension": ".py",
   "mimetype": "text/x-python",
   "name": "python",
   "nbconvert_exporter": "python",
   "pygments_lexer": "ipython2",
   "version": "2.7.6"
  }
 },
 "nbformat": 4,
 "nbformat_minor": 0
}