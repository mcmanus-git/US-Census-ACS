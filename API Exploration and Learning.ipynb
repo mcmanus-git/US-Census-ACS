{
 "cells": [
  {
   "cell_type": "code",
   "execution_count": 5,
   "metadata": {
    "collapsed": true
   },
   "outputs": [],
   "source": [
    "from MyCreds.mycreds import USCensusAPI\n",
    "import requests\n",
    "import pandas as pd\n",
    "import ast"
   ]
  },
  {
   "cell_type": "code",
   "execution_count": 4,
   "outputs": [],
   "source": [
    "# API Reference: https://www.census.gov/data/developers/guidance/api-user-guide.Example_API_Queries.html\n",
    "host = 'https://api.census.gov/data'\n",
    "year = '/2019'\n",
    "# Data Dictionary: https://api.census.gov/data.html\n",
    "dataset_acronym = '/acs/acs1'\n",
    "g = '?get='\n",
    "# Variables for the ACS: https://api.census.gov/data/2005/acs/acs1/variables.html\n",
    "variables = 'NAME,B01001_001E'\n",
    "location = '&for=us:*'\n",
    "usr_key = f\"&key={USCensusAPI.api_key}\"\n",
    "\n",
    "query_url = f\"{host}{year}{dataset_acronym}{g}{variables}{location}{usr_key}\""
   ],
   "metadata": {
    "collapsed": false,
    "pycharm": {
     "name": "#%%\n"
    }
   }
  },
  {
   "cell_type": "code",
   "execution_count": 6,
   "outputs": [
    {
     "name": "stdout",
     "output_type": "stream",
     "text": [
      "[[\"B01001_002E\",\"B01001_003E\",\"B01001_004E\",\"B01001_005E\",\"B01001_006E\",\"B01001_007E\",\"B01001_008E\",\"B01001_009E\",\"B01001_010E\",\"B01001_011E\",\"B01001_012E\",\"B01001_013E\",\"B01001_014E\",\"B01001_015E\",\"B01001_016E\",\"B01001_017E\",\"B01001_018E\",\"B01001_019E\",\"B01001_020E\",\"B01001_021E\",\"B01001_022E\",\"B01001_023E\",\"B01001_024E\",\"B01001_025E\",\"us\"],\n",
      "[\"161588973\",\"9938937\",\"10033518\",\"10987313\",\"6361859\",\"4541794\",\"2318283\",\"2257008\",\"6439169\",\"11817829\",\"11281470\",\"10892040\",\"10028675\",\"10079567\",\"10075795\",\"10440265\",\"4168435\",\"5882735\",\"3538792\",\"4652319\",\"6529918\",\"4367764\",\"2671396\",\"2284092\",\"1\"]]\n"
     ]
    }
   ],
   "source": [
    "# API Reference: https://www.census.gov/data/developers/guidance/api-user-guide.Example_API_Queries.html\n",
    "host = 'https://api.census.gov/data'\n",
    "year = '/2019'\n",
    "# Data Dictionary: https://api.census.gov/data.html\n",
    "dataset_acronym = '/acs/acs1'\n",
    "g = '?get='\n",
    "# Variables for the ACS: https://api.census.gov/data/2005/acs/acs1/variables.html\n",
    "variables = 'B01001_002E,B01001_003E,B01001_004E,B01001_005E,B01001_006E,B01001_007E,B01001_008E,B01001_009E,B01001_010E,B01001_011E,B01001_012E,B01001_013E,B01001_014E,B01001_015E,B01001_016E,B01001_017E,B01001_018E,B01001_019E,B01001_020E,B01001_021E,B01001_022E,B01001_023E,B01001_024E,B01001_025E'\n",
    "location = '&for=us:*'\n",
    "usr_key = f\"&key={USCensusAPI.api_key}\"\n",
    "\n",
    "query_url = f\"{host}{year}{dataset_acronym}{g}{variables}{location}{usr_key}\"\n",
    "response = requests.get(query_url)\n",
    "print(response.text)"
   ],
   "metadata": {
    "collapsed": false,
    "pycharm": {
     "name": "#%%\n"
    }
   }
  },
  {
   "cell_type": "code",
   "execution_count": 3,
   "outputs": [],
   "source": [
    "response = requests.get(query_url)"
   ],
   "metadata": {
    "collapsed": false,
    "pycharm": {
     "name": "#%%\n"
    }
   }
  },
  {
   "cell_type": "code",
   "execution_count": 4,
   "outputs": [
    {
     "name": "stdout",
     "output_type": "stream",
     "text": [
      "[[\"NAME\",\"B01001_001E\",\"us\"],\n",
      "[\"United States\",\"328239523\",\"1\"]]\n"
     ]
    }
   ],
   "source": [
    "print(response.text)"
   ],
   "metadata": {
    "collapsed": false,
    "pycharm": {
     "name": "#%%\n"
    }
   }
  },
  {
   "cell_type": "markdown",
   "source": [
    "B01001_001E is Estimated Total: Sex by Age without delineation.  In other words, this query is basically just returning 328,239,523 which is the total estimated US population in 2019."
   ],
   "metadata": {
    "collapsed": false,
    "pycharm": {
     "name": "#%% md\n"
    }
   }
  },
  {
   "cell_type": "markdown",
   "source": [
    "Rather than going through and copying all the variable names from the reference table, I'm going to try and make things easier on myself and see if I can't just read that table in with pandas and extract the variable names."
   ],
   "metadata": {
    "collapsed": false,
    "pycharm": {
     "name": "#%% md\n"
    }
   }
  },
  {
   "cell_type": "code",
   "execution_count": 5,
   "outputs": [
    {
     "name": "stderr",
     "output_type": "stream",
     "text": [
      "/Users/msmcmanus/opt/anaconda3/lib/python3.8/site-packages/IPython/core/interactiveshell.py:3361: DtypeWarning: Columns (6) have mixed types.Specify dtype option on import or set low_memory=False.\n",
      "  if (await self.run_code(code, result,  async_=asy)):\n"
     ]
    },
    {
     "data": {
      "text/plain": "                                               Unnamed: 0  Unnamed: 1  \\\n0                                                     NaN         NaN   \n1                                                     NaN         NaN   \n2                                                     NaN         NaN   \n3                                                     NaN         NaN   \n4                           .tagquery tr td { vertical...         NaN   \n...                                                   ...         ...   \n178279                                              </tr>         NaN   \n178280                                           </tbody>         NaN   \n178281                                           </table>         NaN   \n178282                                            </body>         NaN   \n178283                                            </html>         NaN   \n\n        Unnamed: 2  Unnamed: 3  Unnamed: 4 Unnamed: 5     text-align: right;  \n0              NaN         NaN         NaN        NaN    padding-right: 1em;  \n1              NaN         NaN         NaN        NaN            width: 3em;  \n2              NaN         NaN         NaN        NaN  //font-size: smaller;  \n3              NaN         NaN         NaN          }                    NaN  \n4              NaN         NaN         NaN        NaN                    NaN  \n...            ...         ...         ...        ...                    ...  \n178279         NaN         NaN         NaN        NaN                    NaN  \n178280         NaN         NaN         NaN        NaN                    NaN  \n178281         NaN         NaN         NaN        NaN                    NaN  \n178282         NaN         NaN         NaN        NaN                    NaN  \n178283         NaN         NaN         NaN        NaN                    NaN  \n\n[178284 rows x 7 columns]",
      "text/html": "<div>\n<style scoped>\n    .dataframe tbody tr th:only-of-type {\n        vertical-align: middle;\n    }\n\n    .dataframe tbody tr th {\n        vertical-align: top;\n    }\n\n    .dataframe thead th {\n        text-align: right;\n    }\n</style>\n<table border=\"1\" class=\"dataframe\">\n  <thead>\n    <tr style=\"text-align: right;\">\n      <th></th>\n      <th>Unnamed: 0</th>\n      <th>Unnamed: 1</th>\n      <th>Unnamed: 2</th>\n      <th>Unnamed: 3</th>\n      <th>Unnamed: 4</th>\n      <th>Unnamed: 5</th>\n      <th>text-align: right;</th>\n    </tr>\n  </thead>\n  <tbody>\n    <tr>\n      <th>0</th>\n      <td>NaN</td>\n      <td>NaN</td>\n      <td>NaN</td>\n      <td>NaN</td>\n      <td>NaN</td>\n      <td>NaN</td>\n      <td>padding-right: 1em;</td>\n    </tr>\n    <tr>\n      <th>1</th>\n      <td>NaN</td>\n      <td>NaN</td>\n      <td>NaN</td>\n      <td>NaN</td>\n      <td>NaN</td>\n      <td>NaN</td>\n      <td>width: 3em;</td>\n    </tr>\n    <tr>\n      <th>2</th>\n      <td>NaN</td>\n      <td>NaN</td>\n      <td>NaN</td>\n      <td>NaN</td>\n      <td>NaN</td>\n      <td>NaN</td>\n      <td>//font-size: smaller;</td>\n    </tr>\n    <tr>\n      <th>3</th>\n      <td>NaN</td>\n      <td>NaN</td>\n      <td>NaN</td>\n      <td>NaN</td>\n      <td>NaN</td>\n      <td>}</td>\n      <td>NaN</td>\n    </tr>\n    <tr>\n      <th>4</th>\n      <td>.tagquery tr td { vertical...</td>\n      <td>NaN</td>\n      <td>NaN</td>\n      <td>NaN</td>\n      <td>NaN</td>\n      <td>NaN</td>\n      <td>NaN</td>\n    </tr>\n    <tr>\n      <th>...</th>\n      <td>...</td>\n      <td>...</td>\n      <td>...</td>\n      <td>...</td>\n      <td>...</td>\n      <td>...</td>\n      <td>...</td>\n    </tr>\n    <tr>\n      <th>178279</th>\n      <td>&lt;/tr&gt;</td>\n      <td>NaN</td>\n      <td>NaN</td>\n      <td>NaN</td>\n      <td>NaN</td>\n      <td>NaN</td>\n      <td>NaN</td>\n    </tr>\n    <tr>\n      <th>178280</th>\n      <td>&lt;/tbody&gt;</td>\n      <td>NaN</td>\n      <td>NaN</td>\n      <td>NaN</td>\n      <td>NaN</td>\n      <td>NaN</td>\n      <td>NaN</td>\n    </tr>\n    <tr>\n      <th>178281</th>\n      <td>&lt;/table&gt;</td>\n      <td>NaN</td>\n      <td>NaN</td>\n      <td>NaN</td>\n      <td>NaN</td>\n      <td>NaN</td>\n      <td>NaN</td>\n    </tr>\n    <tr>\n      <th>178282</th>\n      <td>&lt;/body&gt;</td>\n      <td>NaN</td>\n      <td>NaN</td>\n      <td>NaN</td>\n      <td>NaN</td>\n      <td>NaN</td>\n      <td>NaN</td>\n    </tr>\n    <tr>\n      <th>178283</th>\n      <td>&lt;/html&gt;</td>\n      <td>NaN</td>\n      <td>NaN</td>\n      <td>NaN</td>\n      <td>NaN</td>\n      <td>NaN</td>\n      <td>NaN</td>\n    </tr>\n  </tbody>\n</table>\n<p>178284 rows × 7 columns</p>\n</div>"
     },
     "execution_count": 5,
     "metadata": {},
     "output_type": "execute_result"
    }
   ],
   "source": [
    "variable_table_url = 'https://api.census.gov/data/2019/acs/acs1/variables.html'\n",
    "v_table = pd.read_table(variable_table_url, skiprows=59)\n",
    "v_table"
   ],
   "metadata": {
    "collapsed": false,
    "pycharm": {
     "name": "#%%\n"
    }
   }
  },
  {
   "cell_type": "markdown",
   "source": [
    "Well, line 59 threw an error so I skipped it but the results aren't good. Because I'm too tired and lazy right now to figure out how to make that work properly, I'm going to give read_html a shot really quick."
   ],
   "metadata": {
    "collapsed": false,
    "pycharm": {
     "name": "#%% md\n"
    }
   }
  },
  {
   "cell_type": "code",
   "execution_count": 6,
   "outputs": [
    {
     "data": {
      "text/plain": "[                  Name                                       Label  \\\n 0               AIANHH                                   Geography   \n 1                 ANRC                                   Geography   \n 2          B01001_001E                            Estimate!!Total:   \n 3          B01001_002E                     Estimate!!Total:!!Male:   \n 4          B01001_003E      Estimate!!Total:!!Male:!!Under 5 years   \n ...                ...                                         ...   \n 35551            STATE                                   Geography   \n 35552         SUMLEVEL                          Summary Level code   \n 35553               UA                                   Geography   \n 35554            ucgid  Uniform Census Geography Identifier clause   \n 35555  35555 variables                             35555 variables   \n \n                                   Concept         Required  \\\n 0                                     NaN     not required   \n 1                                     NaN     not required   \n 2                              SEX BY AGE     not required   \n 3                              SEX BY AGE     not required   \n 4                              SEX BY AGE     not required   \n ...                                   ...              ...   \n 35551                                 NaN     not required   \n 35552                                 NaN     not required   \n 35553                                 NaN     not required   \n 35554  Census API Geography Specification   predicate-only   \n 35555                     35555 variables  35555 variables   \n \n                                       Attributes            Limit  \\\n 0                                            NaN                0   \n 1                                            NaN                0   \n 2      B01001_001EA,  B01001_001M,  B01001_001MA                0   \n 3      B01001_002EA,  B01001_002M,  B01001_002MA                0   \n 4      B01001_003EA,  B01001_003M,  B01001_003MA                0   \n ...                                          ...              ...   \n 35551                                        NaN                0   \n 35552                                        NaN                0   \n 35553                                        NaN                0   \n 35554                                        NaN                0   \n 35555                            35555 variables  35555 variables   \n \n           Predicate Type            Group       Unnamed: 8  \n 0      (not a predicate)              NaN              NaN  \n 1      (not a predicate)              NaN              NaN  \n 2                    int           B01001              NaN  \n 3                    int           B01001              NaN  \n 4                    int           B01001              NaN  \n ...                  ...              ...              ...  \n 35551  (not a predicate)              NaN              NaN  \n 35552             string              NaN              NaN  \n 35553  (not a predicate)              NaN              NaN  \n 35554              ucgid              NaN              NaN  \n 35555    35555 variables  35555 variables  35555 variables  \n \n [35556 rows x 9 columns]]"
     },
     "execution_count": 6,
     "metadata": {},
     "output_type": "execute_result"
    }
   ],
   "source": [
    "variable_table_url = 'https://api.census.gov/data/2019/acs/acs1/variables.html'\n",
    "v_table = pd.read_html(variable_table_url)\n",
    "v_table"
   ],
   "metadata": {
    "collapsed": false,
    "pycharm": {
     "name": "#%%\n"
    }
   }
  },
  {
   "cell_type": "code",
   "execution_count": 7,
   "outputs": [
    {
     "data": {
      "text/plain": "list"
     },
     "execution_count": 7,
     "metadata": {},
     "output_type": "execute_result"
    }
   ],
   "source": [
    "type(v_table)"
   ],
   "metadata": {
    "collapsed": false,
    "pycharm": {
     "name": "#%%\n"
    }
   }
  },
  {
   "cell_type": "code",
   "execution_count": 8,
   "outputs": [
    {
     "data": {
      "text/plain": "                  Name                                       Label  \\\n0               AIANHH                                   Geography   \n1                 ANRC                                   Geography   \n2          B01001_001E                            Estimate!!Total:   \n3          B01001_002E                     Estimate!!Total:!!Male:   \n4          B01001_003E      Estimate!!Total:!!Male:!!Under 5 years   \n...                ...                                         ...   \n35551            STATE                                   Geography   \n35552         SUMLEVEL                          Summary Level code   \n35553               UA                                   Geography   \n35554            ucgid  Uniform Census Geography Identifier clause   \n35555  35555 variables                             35555 variables   \n\n                                  Concept         Required  \\\n0                                     NaN     not required   \n1                                     NaN     not required   \n2                              SEX BY AGE     not required   \n3                              SEX BY AGE     not required   \n4                              SEX BY AGE     not required   \n...                                   ...              ...   \n35551                                 NaN     not required   \n35552                                 NaN     not required   \n35553                                 NaN     not required   \n35554  Census API Geography Specification   predicate-only   \n35555                     35555 variables  35555 variables   \n\n                                      Attributes            Limit  \\\n0                                            NaN                0   \n1                                            NaN                0   \n2      B01001_001EA,  B01001_001M,  B01001_001MA                0   \n3      B01001_002EA,  B01001_002M,  B01001_002MA                0   \n4      B01001_003EA,  B01001_003M,  B01001_003MA                0   \n...                                          ...              ...   \n35551                                        NaN                0   \n35552                                        NaN                0   \n35553                                        NaN                0   \n35554                                        NaN                0   \n35555                            35555 variables  35555 variables   \n\n          Predicate Type            Group       Unnamed: 8  \n0      (not a predicate)              NaN              NaN  \n1      (not a predicate)              NaN              NaN  \n2                    int           B01001              NaN  \n3                    int           B01001              NaN  \n4                    int           B01001              NaN  \n...                  ...              ...              ...  \n35551  (not a predicate)              NaN              NaN  \n35552             string              NaN              NaN  \n35553  (not a predicate)              NaN              NaN  \n35554              ucgid              NaN              NaN  \n35555    35555 variables  35555 variables  35555 variables  \n\n[35556 rows x 9 columns]",
      "text/html": "<div>\n<style scoped>\n    .dataframe tbody tr th:only-of-type {\n        vertical-align: middle;\n    }\n\n    .dataframe tbody tr th {\n        vertical-align: top;\n    }\n\n    .dataframe thead th {\n        text-align: right;\n    }\n</style>\n<table border=\"1\" class=\"dataframe\">\n  <thead>\n    <tr style=\"text-align: right;\">\n      <th></th>\n      <th>Name</th>\n      <th>Label</th>\n      <th>Concept</th>\n      <th>Required</th>\n      <th>Attributes</th>\n      <th>Limit</th>\n      <th>Predicate Type</th>\n      <th>Group</th>\n      <th>Unnamed: 8</th>\n    </tr>\n  </thead>\n  <tbody>\n    <tr>\n      <th>0</th>\n      <td>AIANHH</td>\n      <td>Geography</td>\n      <td>NaN</td>\n      <td>not required</td>\n      <td>NaN</td>\n      <td>0</td>\n      <td>(not a predicate)</td>\n      <td>NaN</td>\n      <td>NaN</td>\n    </tr>\n    <tr>\n      <th>1</th>\n      <td>ANRC</td>\n      <td>Geography</td>\n      <td>NaN</td>\n      <td>not required</td>\n      <td>NaN</td>\n      <td>0</td>\n      <td>(not a predicate)</td>\n      <td>NaN</td>\n      <td>NaN</td>\n    </tr>\n    <tr>\n      <th>2</th>\n      <td>B01001_001E</td>\n      <td>Estimate!!Total:</td>\n      <td>SEX BY AGE</td>\n      <td>not required</td>\n      <td>B01001_001EA,  B01001_001M,  B01001_001MA</td>\n      <td>0</td>\n      <td>int</td>\n      <td>B01001</td>\n      <td>NaN</td>\n    </tr>\n    <tr>\n      <th>3</th>\n      <td>B01001_002E</td>\n      <td>Estimate!!Total:!!Male:</td>\n      <td>SEX BY AGE</td>\n      <td>not required</td>\n      <td>B01001_002EA,  B01001_002M,  B01001_002MA</td>\n      <td>0</td>\n      <td>int</td>\n      <td>B01001</td>\n      <td>NaN</td>\n    </tr>\n    <tr>\n      <th>4</th>\n      <td>B01001_003E</td>\n      <td>Estimate!!Total:!!Male:!!Under 5 years</td>\n      <td>SEX BY AGE</td>\n      <td>not required</td>\n      <td>B01001_003EA,  B01001_003M,  B01001_003MA</td>\n      <td>0</td>\n      <td>int</td>\n      <td>B01001</td>\n      <td>NaN</td>\n    </tr>\n    <tr>\n      <th>...</th>\n      <td>...</td>\n      <td>...</td>\n      <td>...</td>\n      <td>...</td>\n      <td>...</td>\n      <td>...</td>\n      <td>...</td>\n      <td>...</td>\n      <td>...</td>\n    </tr>\n    <tr>\n      <th>35551</th>\n      <td>STATE</td>\n      <td>Geography</td>\n      <td>NaN</td>\n      <td>not required</td>\n      <td>NaN</td>\n      <td>0</td>\n      <td>(not a predicate)</td>\n      <td>NaN</td>\n      <td>NaN</td>\n    </tr>\n    <tr>\n      <th>35552</th>\n      <td>SUMLEVEL</td>\n      <td>Summary Level code</td>\n      <td>NaN</td>\n      <td>not required</td>\n      <td>NaN</td>\n      <td>0</td>\n      <td>string</td>\n      <td>NaN</td>\n      <td>NaN</td>\n    </tr>\n    <tr>\n      <th>35553</th>\n      <td>UA</td>\n      <td>Geography</td>\n      <td>NaN</td>\n      <td>not required</td>\n      <td>NaN</td>\n      <td>0</td>\n      <td>(not a predicate)</td>\n      <td>NaN</td>\n      <td>NaN</td>\n    </tr>\n    <tr>\n      <th>35554</th>\n      <td>ucgid</td>\n      <td>Uniform Census Geography Identifier clause</td>\n      <td>Census API Geography Specification</td>\n      <td>predicate-only</td>\n      <td>NaN</td>\n      <td>0</td>\n      <td>ucgid</td>\n      <td>NaN</td>\n      <td>NaN</td>\n    </tr>\n    <tr>\n      <th>35555</th>\n      <td>35555 variables</td>\n      <td>35555 variables</td>\n      <td>35555 variables</td>\n      <td>35555 variables</td>\n      <td>35555 variables</td>\n      <td>35555 variables</td>\n      <td>35555 variables</td>\n      <td>35555 variables</td>\n      <td>35555 variables</td>\n    </tr>\n  </tbody>\n</table>\n<p>35556 rows × 9 columns</p>\n</div>"
     },
     "execution_count": 8,
     "metadata": {},
     "output_type": "execute_result"
    }
   ],
   "source": [
    "variable_df = pd.DataFrame(v_table[0])\n",
    "variable_df"
   ],
   "metadata": {
    "collapsed": false,
    "pycharm": {
     "name": "#%%\n"
    }
   }
  },
  {
   "cell_type": "markdown",
   "source": [
    "That's more like it!  This will make it easier to automate pulling out multiple variables and giving them more appropriate names than 'B01001_001E', for instance."
   ],
   "metadata": {
    "collapsed": false,
    "pycharm": {
     "name": "#%% md\n"
    }
   }
  },
  {
   "cell_type": "code",
   "execution_count": 55,
   "outputs": [
    {
     "data": {
      "text/plain": "'B01001_002E,B01001_003E,B01001_004E,B01001_005E,B01001_006E,B01001_007E,B01001_008E,B01001_009E,B01001_010E,B01001_011E,B01001_012E,B01001_013E,B01001_014E,B01001_015E,B01001_016E,B01001_017E,B01001_018E,B01001_019E,B01001_020E,B01001_021E,B01001_022E,B01001_023E,B01001_024E,B01001_025E'"
     },
     "execution_count": 55,
     "metadata": {},
     "output_type": "execute_result"
    }
   ],
   "source": [
    "total_male_by_age_variables = \",\".join(variable_df.iloc[3:27]['Name'].values)\n",
    "total_male_by_age_variables"
   ],
   "metadata": {
    "collapsed": false,
    "pycharm": {
     "name": "#%%\n"
    }
   }
  },
  {
   "cell_type": "markdown",
   "source": [
    "Ok, that gets me a string representation of all the variable names for the male population by age. I just picked those because they were at the top of the list.  I'm going to insert those into the API query and see what we get here."
   ],
   "metadata": {
    "collapsed": false,
    "pycharm": {
     "name": "#%% md\n"
    }
   }
  },
  {
   "cell_type": "code",
   "execution_count": 56,
   "outputs": [],
   "source": [
    "# Only thing changing here is the variables which are substituted in under total_male_by_age_variables\n",
    "m_query_url = f\"{host}{year}{dataset_acronym}{g}{total_male_by_age_variables}{location}{usr_key}\"\n",
    "\n",
    "m_response = requests.get(m_query_url)"
   ],
   "metadata": {
    "collapsed": false,
    "pycharm": {
     "name": "#%%\n"
    }
   }
  },
  {
   "cell_type": "code",
   "execution_count": 57,
   "outputs": [
    {
     "data": {
      "text/plain": "'[[\"B01001_002E\",\"B01001_003E\",\"B01001_004E\",\"B01001_005E\",\"B01001_006E\",\"B01001_007E\",\"B01001_008E\",\"B01001_009E\",\"B01001_010E\",\"B01001_011E\",\"B01001_012E\",\"B01001_013E\",\"B01001_014E\",\"B01001_015E\",\"B01001_016E\",\"B01001_017E\",\"B01001_018E\",\"B01001_019E\",\"B01001_020E\",\"B01001_021E\",\"B01001_022E\",\"B01001_023E\",\"B01001_024E\",\"B01001_025E\",\"us\"],\\n[\"161588973\",\"9938937\",\"10033518\",\"10987313\",\"6361859\",\"4541794\",\"2318283\",\"2257008\",\"6439169\",\"11817829\",\"11281470\",\"10892040\",\"10028675\",\"10079567\",\"10075795\",\"10440265\",\"4168435\",\"5882735\",\"3538792\",\"4652319\",\"6529918\",\"4367764\",\"2671396\",\"2284092\",\"1\"]]'"
     },
     "execution_count": 57,
     "metadata": {},
     "output_type": "execute_result"
    }
   ],
   "source": [
    "m_response.text"
   ],
   "metadata": {
    "collapsed": false,
    "pycharm": {
     "name": "#%%\n"
    }
   }
  },
  {
   "cell_type": "markdown",
   "source": [
    "So we really just want the second list since those will be the values.  We'll also want to use the 'label' column from the `variable_df` to get column headers that actually mean something. The last item in the `m_response.text[1]` is just the geography code for the US which is 1, so we'll drop that value as well."
   ],
   "metadata": {
    "collapsed": false,
    "pycharm": {
     "name": "#%% md\n"
    }
   }
  },
  {
   "cell_type": "code",
   "execution_count": 58,
   "outputs": [
    {
     "data": {
      "text/plain": "[161588973,\n 9938937,\n 10033518,\n 10987313,\n 6361859,\n 4541794,\n 2318283,\n 2257008,\n 6439169,\n 11817829,\n 11281470,\n 10892040,\n 10028675,\n 10079567,\n 10075795,\n 10440265,\n 4168435,\n 5882735,\n 3538792,\n 4652319,\n 6529918,\n 4367764,\n 2671396,\n 2284092]"
     },
     "execution_count": 58,
     "metadata": {},
     "output_type": "execute_result"
    }
   ],
   "source": [
    "m_values = [int(i) for i in ast.literal_eval(m_response.text)[1][:-1]]\n",
    "m_values"
   ],
   "metadata": {
    "collapsed": false,
    "pycharm": {
     "name": "#%%\n"
    }
   }
  },
  {
   "cell_type": "markdown",
   "source": [
    "We'll clean the labels.\n",
    "Example: 'Estimate!!Total:!!Male:!!Under 5 years' -> 'Male: Under 5 year'"
   ],
   "metadata": {
    "collapsed": false,
    "pycharm": {
     "name": "#%% md\n"
    }
   }
  },
  {
   "cell_type": "code",
   "execution_count": 62,
   "outputs": [
    {
     "data": {
      "text/plain": "['Male: Total',\n 'Male: Under 5 year',\n 'Male: 5 to 9 year',\n 'Male: 10 to 14 year',\n 'Male: 15 to 17 year',\n 'Male: 18 and 19 year',\n 'Male: 20 year',\n 'Male: 21 year',\n 'Male: 22 to 24 year',\n 'Male: 25 to 29 year',\n 'Male: 30 to 34 year',\n 'Male: 35 to 39 year',\n 'Male: 40 to 44 year',\n 'Male: 45 to 49 year',\n 'Male: 50 to 54 year',\n 'Male: 55 to 59 year',\n 'Male: 60 and 61 year',\n 'Male: 62 to 64 year',\n 'Male: 65 and 66 year',\n 'Male: 67 to 69 year',\n 'Male: 70 to 74 year',\n 'Male: 75 to 79 year',\n 'Male: 80 to 84 year',\n 'Male: 85 years and over']"
     },
     "execution_count": 62,
     "metadata": {},
     "output_type": "execute_result"
    }
   ],
   "source": [
    "m_labels = ['Male: Total', *[i.strip('Estimate!!Total:!!').replace(\"!!\", \" \") for i in variable_df.iloc[4:27]['Label'].values]]\n",
    "m_labels"
   ],
   "metadata": {
    "collapsed": false,
    "pycharm": {
     "name": "#%%\n"
    }
   }
  },
  {
   "cell_type": "code",
   "execution_count": 63,
   "outputs": [
    {
     "data": {
      "text/plain": "{'Male: Total': 161588973,\n 'Male: Under 5 year': 9938937,\n 'Male: 5 to 9 year': 10033518,\n 'Male: 10 to 14 year': 10987313,\n 'Male: 15 to 17 year': 6361859,\n 'Male: 18 and 19 year': 4541794,\n 'Male: 20 year': 2318283,\n 'Male: 21 year': 2257008,\n 'Male: 22 to 24 year': 6439169,\n 'Male: 25 to 29 year': 11817829,\n 'Male: 30 to 34 year': 11281470,\n 'Male: 35 to 39 year': 10892040,\n 'Male: 40 to 44 year': 10028675,\n 'Male: 45 to 49 year': 10079567,\n 'Male: 50 to 54 year': 10075795,\n 'Male: 55 to 59 year': 10440265,\n 'Male: 60 and 61 year': 4168435,\n 'Male: 62 to 64 year': 5882735,\n 'Male: 65 and 66 year': 3538792,\n 'Male: 67 to 69 year': 4652319,\n 'Male: 70 to 74 year': 6529918,\n 'Male: 75 to 79 year': 4367764,\n 'Male: 80 to 84 year': 2671396,\n 'Male: 85 years and over': 2284092}"
     },
     "execution_count": 63,
     "metadata": {},
     "output_type": "execute_result"
    }
   ],
   "source": [
    "{m_labels[i]: m_values[i] for i in range(len(m_labels))}"
   ],
   "metadata": {
    "collapsed": false,
    "pycharm": {
     "name": "#%%\n"
    }
   }
  },
  {
   "cell_type": "code",
   "execution_count": 64,
   "outputs": [
    {
     "data": {
      "text/plain": "                              2019\nMale: Total              161588973\nMale: Under 5 year         9938937\nMale: 5 to 9 year         10033518\nMale: 10 to 14 year       10987313\nMale: 15 to 17 year        6361859\nMale: 18 and 19 year       4541794\nMale: 20 year              2318283\nMale: 21 year              2257008\nMale: 22 to 24 year        6439169\nMale: 25 to 29 year       11817829\nMale: 30 to 34 year       11281470\nMale: 35 to 39 year       10892040\nMale: 40 to 44 year       10028675\nMale: 45 to 49 year       10079567\nMale: 50 to 54 year       10075795\nMale: 55 to 59 year       10440265\nMale: 60 and 61 year       4168435\nMale: 62 to 64 year        5882735\nMale: 65 and 66 year       3538792\nMale: 67 to 69 year        4652319\nMale: 70 to 74 year        6529918\nMale: 75 to 79 year        4367764\nMale: 80 to 84 year        2671396\nMale: 85 years and over    2284092",
      "text/html": "<div>\n<style scoped>\n    .dataframe tbody tr th:only-of-type {\n        vertical-align: middle;\n    }\n\n    .dataframe tbody tr th {\n        vertical-align: top;\n    }\n\n    .dataframe thead th {\n        text-align: right;\n    }\n</style>\n<table border=\"1\" class=\"dataframe\">\n  <thead>\n    <tr style=\"text-align: right;\">\n      <th></th>\n      <th>2019</th>\n    </tr>\n  </thead>\n  <tbody>\n    <tr>\n      <th>Male: Total</th>\n      <td>161588973</td>\n    </tr>\n    <tr>\n      <th>Male: Under 5 year</th>\n      <td>9938937</td>\n    </tr>\n    <tr>\n      <th>Male: 5 to 9 year</th>\n      <td>10033518</td>\n    </tr>\n    <tr>\n      <th>Male: 10 to 14 year</th>\n      <td>10987313</td>\n    </tr>\n    <tr>\n      <th>Male: 15 to 17 year</th>\n      <td>6361859</td>\n    </tr>\n    <tr>\n      <th>Male: 18 and 19 year</th>\n      <td>4541794</td>\n    </tr>\n    <tr>\n      <th>Male: 20 year</th>\n      <td>2318283</td>\n    </tr>\n    <tr>\n      <th>Male: 21 year</th>\n      <td>2257008</td>\n    </tr>\n    <tr>\n      <th>Male: 22 to 24 year</th>\n      <td>6439169</td>\n    </tr>\n    <tr>\n      <th>Male: 25 to 29 year</th>\n      <td>11817829</td>\n    </tr>\n    <tr>\n      <th>Male: 30 to 34 year</th>\n      <td>11281470</td>\n    </tr>\n    <tr>\n      <th>Male: 35 to 39 year</th>\n      <td>10892040</td>\n    </tr>\n    <tr>\n      <th>Male: 40 to 44 year</th>\n      <td>10028675</td>\n    </tr>\n    <tr>\n      <th>Male: 45 to 49 year</th>\n      <td>10079567</td>\n    </tr>\n    <tr>\n      <th>Male: 50 to 54 year</th>\n      <td>10075795</td>\n    </tr>\n    <tr>\n      <th>Male: 55 to 59 year</th>\n      <td>10440265</td>\n    </tr>\n    <tr>\n      <th>Male: 60 and 61 year</th>\n      <td>4168435</td>\n    </tr>\n    <tr>\n      <th>Male: 62 to 64 year</th>\n      <td>5882735</td>\n    </tr>\n    <tr>\n      <th>Male: 65 and 66 year</th>\n      <td>3538792</td>\n    </tr>\n    <tr>\n      <th>Male: 67 to 69 year</th>\n      <td>4652319</td>\n    </tr>\n    <tr>\n      <th>Male: 70 to 74 year</th>\n      <td>6529918</td>\n    </tr>\n    <tr>\n      <th>Male: 75 to 79 year</th>\n      <td>4367764</td>\n    </tr>\n    <tr>\n      <th>Male: 80 to 84 year</th>\n      <td>2671396</td>\n    </tr>\n    <tr>\n      <th>Male: 85 years and over</th>\n      <td>2284092</td>\n    </tr>\n  </tbody>\n</table>\n</div>"
     },
     "execution_count": 64,
     "metadata": {},
     "output_type": "execute_result"
    }
   ],
   "source": [
    "pd.DataFrame({2019: {m_labels[i]: m_values[i] for i in range(len(m_labels))}}).reindex(m_labels)"
   ],
   "metadata": {
    "collapsed": false,
    "pycharm": {
     "name": "#%%\n"
    }
   }
  },
  {
   "cell_type": "markdown",
   "source": [
    "___"
   ],
   "metadata": {
    "collapsed": false,
    "pycharm": {
     "name": "#%% md\n"
    }
   }
  },
  {
   "cell_type": "markdown",
   "source": [
    "Ok, there is all the male population information for 2019.  I'm going to try 2018 as well but I'm worried that the indexes of variables may have changed over the years.  We'll see how it goes. Before I do that I'm going to write some functions so I can just pop new info in without copying and pasting for every year now that I have a somewhat working proof of concept."
   ],
   "metadata": {
    "collapsed": false,
    "pycharm": {
     "name": "#%% md\n"
    }
   }
  },
  {
   "cell_type": "code",
   "execution_count": 4,
   "outputs": [],
   "source": [
    "from MyCreds.mycreds import USCensusAPI\n",
    "import requests\n",
    "import pandas as pd\n",
    "import ast"
   ],
   "metadata": {
    "collapsed": false,
    "pycharm": {
     "name": "#%%\n"
    }
   }
  },
  {
   "cell_type": "code",
   "execution_count": 5,
   "outputs": [],
   "source": [
    "year = 2018"
   ],
   "metadata": {
    "collapsed": false,
    "pycharm": {
     "name": "#%%\n"
    }
   }
  },
  {
   "cell_type": "code",
   "execution_count": 6,
   "outputs": [],
   "source": [
    "def get_variable_table_df(year):\n",
    "    variable_table_url = f'https://api.census.gov/data/{year}/acs/acs1/variables.html'\n",
    "    v_table = pd.read_html(variable_table_url)\n",
    "    variable_df = pd.DataFrame(v_table[0])\n",
    "\n",
    "    return variable_df"
   ],
   "metadata": {
    "collapsed": false,
    "pycharm": {
     "name": "#%%\n"
    }
   }
  },
  {
   "cell_type": "code",
   "execution_count": 7,
   "outputs": [
    {
     "data": {
      "text/plain": "                  Name                                       Label  \\\n0               AIANHH                                   Geography   \n1                 ANRC                                   Geography   \n2          B00001_001E                             Estimate!!Total   \n3          B00002_001E                             Estimate!!Total   \n4          B01001_001E                             Estimate!!Total   \n...                ...                                         ...   \n35524            SDUNI                                   Geography   \n35525            STATE                                   Geography   \n35526               UA                                   Geography   \n35527            ucgid  Uniform Census Geography Identifier clause   \n35528  35528 variables                             35528 variables   \n\n                                         Concept         Required  \\\n0                                            NaN     not required   \n1                                            NaN     not required   \n2      UNWEIGHTED SAMPLE COUNT OF THE POPULATION     not required   \n3                UNWEIGHTED SAMPLE HOUSING UNITS     not required   \n4                                     SEX BY AGE     not required   \n...                                          ...              ...   \n35524                                        NaN     not required   \n35525                                        NaN     not required   \n35526                                        NaN     not required   \n35527         Census API Geography Specification   predicate-only   \n35528                            35528 variables  35528 variables   \n\n                                      Attributes            Limit  \\\n0                                            NaN                0   \n1                                            NaN                0   \n2                                   B00001_001EA                0   \n3                                   B00002_001EA                0   \n4      B01001_001EA,  B01001_001M,  B01001_001MA                0   \n...                                          ...              ...   \n35524                                        NaN                0   \n35525                                        NaN                0   \n35526                                        NaN                0   \n35527                                        NaN                0   \n35528                            35528 variables  35528 variables   \n\n          Predicate Type            Group       Unnamed: 8  \n0      (not a predicate)              NaN              NaN  \n1      (not a predicate)              NaN              NaN  \n2                    int           B00001              NaN  \n3                    int           B00002              NaN  \n4                    int           B01001              NaN  \n...                  ...              ...              ...  \n35524  (not a predicate)              NaN              NaN  \n35525  (not a predicate)              NaN              NaN  \n35526  (not a predicate)              NaN              NaN  \n35527              ucgid              NaN              NaN  \n35528    35528 variables  35528 variables  35528 variables  \n\n[35529 rows x 9 columns]",
      "text/html": "<div>\n<style scoped>\n    .dataframe tbody tr th:only-of-type {\n        vertical-align: middle;\n    }\n\n    .dataframe tbody tr th {\n        vertical-align: top;\n    }\n\n    .dataframe thead th {\n        text-align: right;\n    }\n</style>\n<table border=\"1\" class=\"dataframe\">\n  <thead>\n    <tr style=\"text-align: right;\">\n      <th></th>\n      <th>Name</th>\n      <th>Label</th>\n      <th>Concept</th>\n      <th>Required</th>\n      <th>Attributes</th>\n      <th>Limit</th>\n      <th>Predicate Type</th>\n      <th>Group</th>\n      <th>Unnamed: 8</th>\n    </tr>\n  </thead>\n  <tbody>\n    <tr>\n      <th>0</th>\n      <td>AIANHH</td>\n      <td>Geography</td>\n      <td>NaN</td>\n      <td>not required</td>\n      <td>NaN</td>\n      <td>0</td>\n      <td>(not a predicate)</td>\n      <td>NaN</td>\n      <td>NaN</td>\n    </tr>\n    <tr>\n      <th>1</th>\n      <td>ANRC</td>\n      <td>Geography</td>\n      <td>NaN</td>\n      <td>not required</td>\n      <td>NaN</td>\n      <td>0</td>\n      <td>(not a predicate)</td>\n      <td>NaN</td>\n      <td>NaN</td>\n    </tr>\n    <tr>\n      <th>2</th>\n      <td>B00001_001E</td>\n      <td>Estimate!!Total</td>\n      <td>UNWEIGHTED SAMPLE COUNT OF THE POPULATION</td>\n      <td>not required</td>\n      <td>B00001_001EA</td>\n      <td>0</td>\n      <td>int</td>\n      <td>B00001</td>\n      <td>NaN</td>\n    </tr>\n    <tr>\n      <th>3</th>\n      <td>B00002_001E</td>\n      <td>Estimate!!Total</td>\n      <td>UNWEIGHTED SAMPLE HOUSING UNITS</td>\n      <td>not required</td>\n      <td>B00002_001EA</td>\n      <td>0</td>\n      <td>int</td>\n      <td>B00002</td>\n      <td>NaN</td>\n    </tr>\n    <tr>\n      <th>4</th>\n      <td>B01001_001E</td>\n      <td>Estimate!!Total</td>\n      <td>SEX BY AGE</td>\n      <td>not required</td>\n      <td>B01001_001EA,  B01001_001M,  B01001_001MA</td>\n      <td>0</td>\n      <td>int</td>\n      <td>B01001</td>\n      <td>NaN</td>\n    </tr>\n    <tr>\n      <th>...</th>\n      <td>...</td>\n      <td>...</td>\n      <td>...</td>\n      <td>...</td>\n      <td>...</td>\n      <td>...</td>\n      <td>...</td>\n      <td>...</td>\n      <td>...</td>\n    </tr>\n    <tr>\n      <th>35524</th>\n      <td>SDUNI</td>\n      <td>Geography</td>\n      <td>NaN</td>\n      <td>not required</td>\n      <td>NaN</td>\n      <td>0</td>\n      <td>(not a predicate)</td>\n      <td>NaN</td>\n      <td>NaN</td>\n    </tr>\n    <tr>\n      <th>35525</th>\n      <td>STATE</td>\n      <td>Geography</td>\n      <td>NaN</td>\n      <td>not required</td>\n      <td>NaN</td>\n      <td>0</td>\n      <td>(not a predicate)</td>\n      <td>NaN</td>\n      <td>NaN</td>\n    </tr>\n    <tr>\n      <th>35526</th>\n      <td>UA</td>\n      <td>Geography</td>\n      <td>NaN</td>\n      <td>not required</td>\n      <td>NaN</td>\n      <td>0</td>\n      <td>(not a predicate)</td>\n      <td>NaN</td>\n      <td>NaN</td>\n    </tr>\n    <tr>\n      <th>35527</th>\n      <td>ucgid</td>\n      <td>Uniform Census Geography Identifier clause</td>\n      <td>Census API Geography Specification</td>\n      <td>predicate-only</td>\n      <td>NaN</td>\n      <td>0</td>\n      <td>ucgid</td>\n      <td>NaN</td>\n      <td>NaN</td>\n    </tr>\n    <tr>\n      <th>35528</th>\n      <td>35528 variables</td>\n      <td>35528 variables</td>\n      <td>35528 variables</td>\n      <td>35528 variables</td>\n      <td>35528 variables</td>\n      <td>35528 variables</td>\n      <td>35528 variables</td>\n      <td>35528 variables</td>\n      <td>35528 variables</td>\n    </tr>\n  </tbody>\n</table>\n<p>35529 rows × 9 columns</p>\n</div>"
     },
     "execution_count": 7,
     "metadata": {},
     "output_type": "execute_result"
    }
   ],
   "source": [
    "v_table = get_variable_table_df(year)\n",
    "v_table"
   ],
   "metadata": {
    "collapsed": false,
    "pycharm": {
     "name": "#%%\n"
    }
   }
  },
  {
   "cell_type": "code",
   "execution_count": 35,
   "outputs": [],
   "source": [
    "def get_male_by_age_index(variable_table):\n",
    "    start_index = variable_table[((variable_table['Label'] == 'Estimate!!Total!!Male') | (variable_table['Label'] == 'Estimate!!Total:!!Male:')) & (variable_table['Concept'] == 'SEX BY AGE')].index[0]\n",
    "    end_index = variable_table[((variable_table['Label'] == 'Estimate!!Total!!Male!!85 years and over') | (variable_table['Label'] == 'Estimate!!Total:!!Male:!!85 years and over')) & (variable_table['Concept'] == 'SEX BY AGE')].index[0]\n",
    "    return start_index, end_index + 1"
   ],
   "metadata": {
    "collapsed": false,
    "pycharm": {
     "name": "#%%\n"
    }
   }
  },
  {
   "cell_type": "code",
   "execution_count": 9,
   "outputs": [
    {
     "data": {
      "text/plain": "(5, 29)"
     },
     "execution_count": 9,
     "metadata": {},
     "output_type": "execute_result"
    }
   ],
   "source": [
    "male_by_age_indeces = get_male_by_age_index(v_table)\n",
    "male_by_age_indeces"
   ],
   "metadata": {
    "collapsed": false,
    "pycharm": {
     "name": "#%%\n"
    }
   }
  },
  {
   "cell_type": "code",
   "execution_count": 10,
   "outputs": [],
   "source": [
    "def get_variable_names(variable_table, indeces):\n",
    "\n",
    "    total_male_by_age_variables = \",\".join(variable_table.iloc[indeces[0]: indeces[1]]['Name'].values)\n",
    "    return total_male_by_age_variables"
   ],
   "metadata": {
    "collapsed": false,
    "pycharm": {
     "name": "#%%\n"
    }
   }
  },
  {
   "cell_type": "code",
   "execution_count": 11,
   "outputs": [
    {
     "data": {
      "text/plain": "'B01001_002E,B01001_003E,B01001_004E,B01001_005E,B01001_006E,B01001_007E,B01001_008E,B01001_009E,B01001_010E,B01001_011E,B01001_012E,B01001_013E,B01001_014E,B01001_015E,B01001_016E,B01001_017E,B01001_018E,B01001_019E,B01001_020E,B01001_021E,B01001_022E,B01001_023E,B01001_024E,B01001_025E'"
     },
     "execution_count": 11,
     "metadata": {},
     "output_type": "execute_result"
    }
   ],
   "source": [
    "variables = get_variable_names(v_table, male_by_age_indeces)\n",
    "variables"
   ],
   "metadata": {
    "collapsed": false,
    "pycharm": {
     "name": "#%%\n"
    }
   }
  },
  {
   "cell_type": "code",
   "execution_count": 12,
   "outputs": [],
   "source": [
    "def get_query_url(year, variables):\n",
    "    # API Reference: https://www.census.gov/data/developers/guidance/api-user-guide.Example_API_Queries.html\n",
    "    host = 'https://api.census.gov/data'\n",
    "    year = f'/{year}'\n",
    "    # Data Dictionary: https://api.census.gov/data.html\n",
    "    dataset_acronym = '/acs/acs1'\n",
    "    g = '?get='\n",
    "    # Variables for the ACS: https://api.census.gov/data/2005/acs/acs1/variables.html\n",
    "    # variables = 'NAME,B01001_001E'\n",
    "    location = '&for=us:*'\n",
    "    usr_key = f\"&key={USCensusAPI.api_key}\"\n",
    "\n",
    "    query_url = f\"{host}{year}{dataset_acronym}{g}{variables}{location}{usr_key}\"\n",
    "\n",
    "    return query_url"
   ],
   "metadata": {
    "collapsed": false,
    "pycharm": {
     "name": "#%%\n"
    }
   }
  },
  {
   "cell_type": "code",
   "execution_count": 13,
   "outputs": [],
   "source": [
    "query_url = get_query_url(year, variables)"
   ],
   "metadata": {
    "collapsed": false,
    "pycharm": {
     "name": "#%%\n"
    }
   }
  },
  {
   "cell_type": "code",
   "execution_count": 14,
   "outputs": [],
   "source": [
    "def get_query_text(query_url):\n",
    "    response = requests.get(query_url)\n",
    "    return response.text"
   ],
   "metadata": {
    "collapsed": false,
    "pycharm": {
     "name": "#%%\n"
    }
   }
  },
  {
   "cell_type": "code",
   "execution_count": 15,
   "outputs": [
    {
     "data": {
      "text/plain": "'[[\"B01001_002E\",\"B01001_003E\",\"B01001_004E\",\"B01001_005E\",\"B01001_006E\",\"B01001_007E\",\"B01001_008E\",\"B01001_009E\",\"B01001_010E\",\"B01001_011E\",\"B01001_012E\",\"B01001_013E\",\"B01001_014E\",\"B01001_015E\",\"B01001_016E\",\"B01001_017E\",\"B01001_018E\",\"B01001_019E\",\"B01001_020E\",\"B01001_021E\",\"B01001_022E\",\"B01001_023E\",\"B01001_024E\",\"B01001_025E\",\"us\"],\\n[\"161118151\",\"10047966\",\"10095699\",\"11000943\",\"6394674\",\"4578048\",\"2334371\",\"2261277\",\"6526051\",\"11869477\",\"11111452\",\"10790784\",\"9900261\",\"10253794\",\"10266496\",\"10515549\",\"4134525\",\"5745886\",\"3437352\",\"4618529\",\"6221547\",\"4195815\",\"2591562\",\"2226093\",\"1\"]]'"
     },
     "execution_count": 15,
     "metadata": {},
     "output_type": "execute_result"
    }
   ],
   "source": [
    "response_text = get_query_text(query_url)\n",
    "response_text"
   ],
   "metadata": {
    "collapsed": false,
    "pycharm": {
     "name": "#%%\n"
    }
   }
  },
  {
   "cell_type": "code",
   "execution_count": 16,
   "outputs": [],
   "source": [
    "def get_values_from_response(response_text):\n",
    "    values = [int(i) for i in ast.literal_eval(response_text)[1][:-1]]\n",
    "    return values"
   ],
   "metadata": {
    "collapsed": false,
    "pycharm": {
     "name": "#%%\n"
    }
   }
  },
  {
   "cell_type": "code",
   "execution_count": 17,
   "outputs": [
    {
     "data": {
      "text/plain": "[161118151,\n 10047966,\n 10095699,\n 11000943,\n 6394674,\n 4578048,\n 2334371,\n 2261277,\n 6526051,\n 11869477,\n 11111452,\n 10790784,\n 9900261,\n 10253794,\n 10266496,\n 10515549,\n 4134525,\n 5745886,\n 3437352,\n 4618529,\n 6221547,\n 4195815,\n 2591562,\n 2226093]"
     },
     "execution_count": 17,
     "metadata": {},
     "output_type": "execute_result"
    }
   ],
   "source": [
    "vals = get_values_from_response(response_text)\n",
    "vals"
   ],
   "metadata": {
    "collapsed": false,
    "pycharm": {
     "name": "#%%\n"
    }
   }
  },
  {
   "cell_type": "code",
   "execution_count": 37,
   "outputs": [],
   "source": [
    "def get_labels(variable_df, indeces):\n",
    "    # labels = ['Male: Total', *[i.strip('Estimate!!Total:!!').replace(\"!!\", \" \") for i in variable_df.iloc[indeces[0]:indeces[1]]['Label'].values]]\n",
    "    labels = [i.replace(\"!!\", \" \").replace(\":\", \"\") for i in variable_df.iloc[indeces[0]:indeces[1]]['Label'].values]\n",
    "    return labels"
   ],
   "metadata": {
    "collapsed": false,
    "pycharm": {
     "name": "#%%\n"
    }
   }
  },
  {
   "cell_type": "code",
   "execution_count": 38,
   "outputs": [
    {
     "data": {
      "text/plain": "['Estimate Total Male',\n 'Estimate Total Male Under 5 years',\n 'Estimate Total Male 5 to 9 years',\n 'Estimate Total Male 10 to 14 years',\n 'Estimate Total Male 15 to 17 years',\n 'Estimate Total Male 18 and 19 years',\n 'Estimate Total Male 20 years',\n 'Estimate Total Male 21 years',\n 'Estimate Total Male 22 to 24 years',\n 'Estimate Total Male 25 to 29 years',\n 'Estimate Total Male 30 to 34 years',\n 'Estimate Total Male 35 to 39 years',\n 'Estimate Total Male 40 to 44 years',\n 'Estimate Total Male 45 to 49 years',\n 'Estimate Total Male 50 to 54 years',\n 'Estimate Total Male 55 to 59 years',\n 'Estimate Total Male 60 and 61 years',\n 'Estimate Total Male 62 to 64 years',\n 'Estimate Total Male 65 and 66 years',\n 'Estimate Total Male 67 to 69 years',\n 'Estimate Total Male 70 to 74 years',\n 'Estimate Total Male 75 to 79 years',\n 'Estimate Total Male 80 to 84 years',\n 'Estimate Total Male 85 years and over']"
     },
     "execution_count": 38,
     "metadata": {},
     "output_type": "execute_result"
    }
   ],
   "source": [
    "labels = get_labels(v_table, male_by_age_indeces)\n",
    "labels"
   ],
   "metadata": {
    "collapsed": false,
    "pycharm": {
     "name": "#%%\n"
    }
   }
  },
  {
   "cell_type": "code",
   "execution_count": 20,
   "outputs": [],
   "source": [
    "def create_year_pop_dataframe(year, labels, values):\n",
    "    df = pd.DataFrame({year: {labels[i]: values[i] for i in range(len(labels))}}).reindex(labels)\n",
    "    return df"
   ],
   "metadata": {
    "collapsed": false,
    "pycharm": {
     "name": "#%%\n"
    }
   }
  },
  {
   "cell_type": "code",
   "execution_count": 22,
   "outputs": [],
   "source": [
    "def create_male_pop_by_age_df(year):\n",
    "    v_table = get_variable_table_df(year)\n",
    "    male_by_age_indeces = get_male_by_age_index(v_table)\n",
    "    variables = get_variable_names(v_table, male_by_age_indeces)\n",
    "    query_url = get_query_url(year, variables)\n",
    "    response_text = get_query_text(query_url)\n",
    "    vals = get_values_from_response(response_text)\n",
    "    labels = get_labels(v_table, male_by_age_indeces)\n",
    "    df = create_year_pop_dataframe(year, labels, vals)\n",
    "    return df"
   ],
   "metadata": {
    "collapsed": false,
    "pycharm": {
     "name": "#%%\n"
    }
   }
  },
  {
   "cell_type": "code",
   "execution_count": 24,
   "outputs": [
    {
     "data": {
      "text/plain": "                                            2018\nEstimate Total Male                    161118151\nEstimate Total Male Under 5 years       10047966\nEstimate Total Male 5 to 9 years        10095699\nEstimate Total Male 10 to 14 years      11000943\nEstimate Total Male 15 to 17 years       6394674\nEstimate Total Male 18 and 19 years      4578048\nEstimate Total Male 20 years             2334371\nEstimate Total Male 21 years             2261277\nEstimate Total Male 22 to 24 years       6526051\nEstimate Total Male 25 to 29 years      11869477\nEstimate Total Male 30 to 34 years      11111452\nEstimate Total Male 35 to 39 years      10790784\nEstimate Total Male 40 to 44 years       9900261\nEstimate Total Male 45 to 49 years      10253794\nEstimate Total Male 50 to 54 years      10266496\nEstimate Total Male 55 to 59 years      10515549\nEstimate Total Male 60 and 61 years      4134525\nEstimate Total Male 62 to 64 years       5745886\nEstimate Total Male 65 and 66 years      3437352\nEstimate Total Male 67 to 69 years       4618529\nEstimate Total Male 70 to 74 years       6221547\nEstimate Total Male 75 to 79 years       4195815\nEstimate Total Male 80 to 84 years       2591562\nEstimate Total Male 85 years and over    2226093",
      "text/html": "<div>\n<style scoped>\n    .dataframe tbody tr th:only-of-type {\n        vertical-align: middle;\n    }\n\n    .dataframe tbody tr th {\n        vertical-align: top;\n    }\n\n    .dataframe thead th {\n        text-align: right;\n    }\n</style>\n<table border=\"1\" class=\"dataframe\">\n  <thead>\n    <tr style=\"text-align: right;\">\n      <th></th>\n      <th>2018</th>\n    </tr>\n  </thead>\n  <tbody>\n    <tr>\n      <th>Estimate Total Male</th>\n      <td>161118151</td>\n    </tr>\n    <tr>\n      <th>Estimate Total Male Under 5 years</th>\n      <td>10047966</td>\n    </tr>\n    <tr>\n      <th>Estimate Total Male 5 to 9 years</th>\n      <td>10095699</td>\n    </tr>\n    <tr>\n      <th>Estimate Total Male 10 to 14 years</th>\n      <td>11000943</td>\n    </tr>\n    <tr>\n      <th>Estimate Total Male 15 to 17 years</th>\n      <td>6394674</td>\n    </tr>\n    <tr>\n      <th>Estimate Total Male 18 and 19 years</th>\n      <td>4578048</td>\n    </tr>\n    <tr>\n      <th>Estimate Total Male 20 years</th>\n      <td>2334371</td>\n    </tr>\n    <tr>\n      <th>Estimate Total Male 21 years</th>\n      <td>2261277</td>\n    </tr>\n    <tr>\n      <th>Estimate Total Male 22 to 24 years</th>\n      <td>6526051</td>\n    </tr>\n    <tr>\n      <th>Estimate Total Male 25 to 29 years</th>\n      <td>11869477</td>\n    </tr>\n    <tr>\n      <th>Estimate Total Male 30 to 34 years</th>\n      <td>11111452</td>\n    </tr>\n    <tr>\n      <th>Estimate Total Male 35 to 39 years</th>\n      <td>10790784</td>\n    </tr>\n    <tr>\n      <th>Estimate Total Male 40 to 44 years</th>\n      <td>9900261</td>\n    </tr>\n    <tr>\n      <th>Estimate Total Male 45 to 49 years</th>\n      <td>10253794</td>\n    </tr>\n    <tr>\n      <th>Estimate Total Male 50 to 54 years</th>\n      <td>10266496</td>\n    </tr>\n    <tr>\n      <th>Estimate Total Male 55 to 59 years</th>\n      <td>10515549</td>\n    </tr>\n    <tr>\n      <th>Estimate Total Male 60 and 61 years</th>\n      <td>4134525</td>\n    </tr>\n    <tr>\n      <th>Estimate Total Male 62 to 64 years</th>\n      <td>5745886</td>\n    </tr>\n    <tr>\n      <th>Estimate Total Male 65 and 66 years</th>\n      <td>3437352</td>\n    </tr>\n    <tr>\n      <th>Estimate Total Male 67 to 69 years</th>\n      <td>4618529</td>\n    </tr>\n    <tr>\n      <th>Estimate Total Male 70 to 74 years</th>\n      <td>6221547</td>\n    </tr>\n    <tr>\n      <th>Estimate Total Male 75 to 79 years</th>\n      <td>4195815</td>\n    </tr>\n    <tr>\n      <th>Estimate Total Male 80 to 84 years</th>\n      <td>2591562</td>\n    </tr>\n    <tr>\n      <th>Estimate Total Male 85 years and over</th>\n      <td>2226093</td>\n    </tr>\n  </tbody>\n</table>\n</div>"
     },
     "execution_count": 24,
     "metadata": {},
     "output_type": "execute_result"
    }
   ],
   "source": [
    "df_2018 = create_male_pop_by_age_df(2018)\n",
    "df_2018"
   ],
   "metadata": {
    "collapsed": false,
    "pycharm": {
     "name": "#%%\n"
    }
   }
  },
  {
   "cell_type": "code",
   "execution_count": 25,
   "outputs": [
    {
     "data": {
      "text/plain": "                                            2017\nEstimate Total Male                    160402504\nEstimate Total Male Under 5 years       10138447\nEstimate Total Male 5 to 9 years        10223398\nEstimate Total Male 10 to 14 years      10854851\nEstimate Total Male 15 to 17 years       6456448\nEstimate Total Male 18 and 19 years      4547414\nEstimate Total Male 20 years             2354931\nEstimate Total Male 21 years             2284991\nEstimate Total Male 22 to 24 years       6640221\nEstimate Total Male 25 to 29 years      11720804\nEstimate Total Male 30 to 34 years      11023521\nEstimate Total Male 35 to 39 years      10664164\nEstimate Total Male 40 to 44 years       9807571\nEstimate Total Male 45 to 49 years      10369440\nEstimate Total Male 50 to 54 years      10521449\nEstimate Total Male 55 to 59 years      10561492\nEstimate Total Male 60 and 61 years      4106765\nEstimate Total Male 62 to 64 years       5606148\nEstimate Total Male 65 and 66 years      3381427\nEstimate Total Male 67 to 69 years       4596961\nEstimate Total Male 70 to 74 years       5912776\nEstimate Total Male 75 to 79 years       3934609\nEstimate Total Male 80 to 84 years       2492574\nEstimate Total Male 85 years and over    2202102",
      "text/html": "<div>\n<style scoped>\n    .dataframe tbody tr th:only-of-type {\n        vertical-align: middle;\n    }\n\n    .dataframe tbody tr th {\n        vertical-align: top;\n    }\n\n    .dataframe thead th {\n        text-align: right;\n    }\n</style>\n<table border=\"1\" class=\"dataframe\">\n  <thead>\n    <tr style=\"text-align: right;\">\n      <th></th>\n      <th>2017</th>\n    </tr>\n  </thead>\n  <tbody>\n    <tr>\n      <th>Estimate Total Male</th>\n      <td>160402504</td>\n    </tr>\n    <tr>\n      <th>Estimate Total Male Under 5 years</th>\n      <td>10138447</td>\n    </tr>\n    <tr>\n      <th>Estimate Total Male 5 to 9 years</th>\n      <td>10223398</td>\n    </tr>\n    <tr>\n      <th>Estimate Total Male 10 to 14 years</th>\n      <td>10854851</td>\n    </tr>\n    <tr>\n      <th>Estimate Total Male 15 to 17 years</th>\n      <td>6456448</td>\n    </tr>\n    <tr>\n      <th>Estimate Total Male 18 and 19 years</th>\n      <td>4547414</td>\n    </tr>\n    <tr>\n      <th>Estimate Total Male 20 years</th>\n      <td>2354931</td>\n    </tr>\n    <tr>\n      <th>Estimate Total Male 21 years</th>\n      <td>2284991</td>\n    </tr>\n    <tr>\n      <th>Estimate Total Male 22 to 24 years</th>\n      <td>6640221</td>\n    </tr>\n    <tr>\n      <th>Estimate Total Male 25 to 29 years</th>\n      <td>11720804</td>\n    </tr>\n    <tr>\n      <th>Estimate Total Male 30 to 34 years</th>\n      <td>11023521</td>\n    </tr>\n    <tr>\n      <th>Estimate Total Male 35 to 39 years</th>\n      <td>10664164</td>\n    </tr>\n    <tr>\n      <th>Estimate Total Male 40 to 44 years</th>\n      <td>9807571</td>\n    </tr>\n    <tr>\n      <th>Estimate Total Male 45 to 49 years</th>\n      <td>10369440</td>\n    </tr>\n    <tr>\n      <th>Estimate Total Male 50 to 54 years</th>\n      <td>10521449</td>\n    </tr>\n    <tr>\n      <th>Estimate Total Male 55 to 59 years</th>\n      <td>10561492</td>\n    </tr>\n    <tr>\n      <th>Estimate Total Male 60 and 61 years</th>\n      <td>4106765</td>\n    </tr>\n    <tr>\n      <th>Estimate Total Male 62 to 64 years</th>\n      <td>5606148</td>\n    </tr>\n    <tr>\n      <th>Estimate Total Male 65 and 66 years</th>\n      <td>3381427</td>\n    </tr>\n    <tr>\n      <th>Estimate Total Male 67 to 69 years</th>\n      <td>4596961</td>\n    </tr>\n    <tr>\n      <th>Estimate Total Male 70 to 74 years</th>\n      <td>5912776</td>\n    </tr>\n    <tr>\n      <th>Estimate Total Male 75 to 79 years</th>\n      <td>3934609</td>\n    </tr>\n    <tr>\n      <th>Estimate Total Male 80 to 84 years</th>\n      <td>2492574</td>\n    </tr>\n    <tr>\n      <th>Estimate Total Male 85 years and over</th>\n      <td>2202102</td>\n    </tr>\n  </tbody>\n</table>\n</div>"
     },
     "execution_count": 25,
     "metadata": {},
     "output_type": "execute_result"
    }
   ],
   "source": [
    "df_2017 = create_male_pop_by_age_df(2017)\n",
    "df_2017"
   ],
   "metadata": {
    "collapsed": false,
    "pycharm": {
     "name": "#%%\n"
    }
   }
  },
  {
   "cell_type": "code",
   "execution_count": 39,
   "outputs": [
    {
     "data": {
      "text/plain": "                                            2019\nEstimate Total Male                    161588973\nEstimate Total Male Under 5 years        9938937\nEstimate Total Male 5 to 9 years        10033518\nEstimate Total Male 10 to 14 years      10987313\nEstimate Total Male 15 to 17 years       6361859\nEstimate Total Male 18 and 19 years      4541794\nEstimate Total Male 20 years             2318283\nEstimate Total Male 21 years             2257008\nEstimate Total Male 22 to 24 years       6439169\nEstimate Total Male 25 to 29 years      11817829\nEstimate Total Male 30 to 34 years      11281470\nEstimate Total Male 35 to 39 years      10892040\nEstimate Total Male 40 to 44 years      10028675\nEstimate Total Male 45 to 49 years      10079567\nEstimate Total Male 50 to 54 years      10075795\nEstimate Total Male 55 to 59 years      10440265\nEstimate Total Male 60 and 61 years      4168435\nEstimate Total Male 62 to 64 years       5882735\nEstimate Total Male 65 and 66 years      3538792\nEstimate Total Male 67 to 69 years       4652319\nEstimate Total Male 70 to 74 years       6529918\nEstimate Total Male 75 to 79 years       4367764\nEstimate Total Male 80 to 84 years       2671396\nEstimate Total Male 85 years and over    2284092",
      "text/html": "<div>\n<style scoped>\n    .dataframe tbody tr th:only-of-type {\n        vertical-align: middle;\n    }\n\n    .dataframe tbody tr th {\n        vertical-align: top;\n    }\n\n    .dataframe thead th {\n        text-align: right;\n    }\n</style>\n<table border=\"1\" class=\"dataframe\">\n  <thead>\n    <tr style=\"text-align: right;\">\n      <th></th>\n      <th>2019</th>\n    </tr>\n  </thead>\n  <tbody>\n    <tr>\n      <th>Estimate Total Male</th>\n      <td>161588973</td>\n    </tr>\n    <tr>\n      <th>Estimate Total Male Under 5 years</th>\n      <td>9938937</td>\n    </tr>\n    <tr>\n      <th>Estimate Total Male 5 to 9 years</th>\n      <td>10033518</td>\n    </tr>\n    <tr>\n      <th>Estimate Total Male 10 to 14 years</th>\n      <td>10987313</td>\n    </tr>\n    <tr>\n      <th>Estimate Total Male 15 to 17 years</th>\n      <td>6361859</td>\n    </tr>\n    <tr>\n      <th>Estimate Total Male 18 and 19 years</th>\n      <td>4541794</td>\n    </tr>\n    <tr>\n      <th>Estimate Total Male 20 years</th>\n      <td>2318283</td>\n    </tr>\n    <tr>\n      <th>Estimate Total Male 21 years</th>\n      <td>2257008</td>\n    </tr>\n    <tr>\n      <th>Estimate Total Male 22 to 24 years</th>\n      <td>6439169</td>\n    </tr>\n    <tr>\n      <th>Estimate Total Male 25 to 29 years</th>\n      <td>11817829</td>\n    </tr>\n    <tr>\n      <th>Estimate Total Male 30 to 34 years</th>\n      <td>11281470</td>\n    </tr>\n    <tr>\n      <th>Estimate Total Male 35 to 39 years</th>\n      <td>10892040</td>\n    </tr>\n    <tr>\n      <th>Estimate Total Male 40 to 44 years</th>\n      <td>10028675</td>\n    </tr>\n    <tr>\n      <th>Estimate Total Male 45 to 49 years</th>\n      <td>10079567</td>\n    </tr>\n    <tr>\n      <th>Estimate Total Male 50 to 54 years</th>\n      <td>10075795</td>\n    </tr>\n    <tr>\n      <th>Estimate Total Male 55 to 59 years</th>\n      <td>10440265</td>\n    </tr>\n    <tr>\n      <th>Estimate Total Male 60 and 61 years</th>\n      <td>4168435</td>\n    </tr>\n    <tr>\n      <th>Estimate Total Male 62 to 64 years</th>\n      <td>5882735</td>\n    </tr>\n    <tr>\n      <th>Estimate Total Male 65 and 66 years</th>\n      <td>3538792</td>\n    </tr>\n    <tr>\n      <th>Estimate Total Male 67 to 69 years</th>\n      <td>4652319</td>\n    </tr>\n    <tr>\n      <th>Estimate Total Male 70 to 74 years</th>\n      <td>6529918</td>\n    </tr>\n    <tr>\n      <th>Estimate Total Male 75 to 79 years</th>\n      <td>4367764</td>\n    </tr>\n    <tr>\n      <th>Estimate Total Male 80 to 84 years</th>\n      <td>2671396</td>\n    </tr>\n    <tr>\n      <th>Estimate Total Male 85 years and over</th>\n      <td>2284092</td>\n    </tr>\n  </tbody>\n</table>\n</div>"
     },
     "execution_count": 39,
     "metadata": {},
     "output_type": "execute_result"
    }
   ],
   "source": [
    "df_2019 = create_male_pop_by_age_df(2019)\n",
    "df_2019"
   ],
   "metadata": {
    "collapsed": false,
    "pycharm": {
     "name": "#%%\n"
    }
   }
  },
  {
   "cell_type": "code",
   "execution_count": 52,
   "outputs": [
    {
     "data": {
      "text/plain": "   Year  Estimate Total Male  Estimate Total Male Under 5 years  \\\n0  2017            160402504                           10138447   \n1  2018            161118151                           10047966   \n2  2019            161588973                            9938937   \n\n   Estimate Total Male 5 to 9 years  Estimate Total Male 10 to 14 years  \\\n0                          10223398                            10854851   \n1                          10095699                            11000943   \n2                          10033518                            10987313   \n\n   Estimate Total Male 15 to 17 years  Estimate Total Male 18 and 19 years  \\\n0                             6456448                              4547414   \n1                             6394674                              4578048   \n2                             6361859                              4541794   \n\n   Estimate Total Male 20 years  Estimate Total Male 21 years  \\\n0                       2354931                       2284991   \n1                       2334371                       2261277   \n2                       2318283                       2257008   \n\n   Estimate Total Male 22 to 24 years  ...  \\\n0                             6640221  ...   \n1                             6526051  ...   \n2                             6439169  ...   \n\n   Estimate Total Male 50 to 54 years  Estimate Total Male 55 to 59 years  \\\n0                            10521449                            10561492   \n1                            10266496                            10515549   \n2                            10075795                            10440265   \n\n   Estimate Total Male 60 and 61 years  Estimate Total Male 62 to 64 years  \\\n0                              4106765                             5606148   \n1                              4134525                             5745886   \n2                              4168435                             5882735   \n\n   Estimate Total Male 65 and 66 years  Estimate Total Male 67 to 69 years  \\\n0                              3381427                             4596961   \n1                              3437352                             4618529   \n2                              3538792                             4652319   \n\n   Estimate Total Male 70 to 74 years  Estimate Total Male 75 to 79 years  \\\n0                             5912776                             3934609   \n1                             6221547                             4195815   \n2                             6529918                             4367764   \n\n   Estimate Total Male 80 to 84 years  Estimate Total Male 85 years and over  \n0                             2492574                                2202102  \n1                             2591562                                2226093  \n2                             2671396                                2284092  \n\n[3 rows x 25 columns]",
      "text/html": "<div>\n<style scoped>\n    .dataframe tbody tr th:only-of-type {\n        vertical-align: middle;\n    }\n\n    .dataframe tbody tr th {\n        vertical-align: top;\n    }\n\n    .dataframe thead th {\n        text-align: right;\n    }\n</style>\n<table border=\"1\" class=\"dataframe\">\n  <thead>\n    <tr style=\"text-align: right;\">\n      <th></th>\n      <th>Year</th>\n      <th>Estimate Total Male</th>\n      <th>Estimate Total Male Under 5 years</th>\n      <th>Estimate Total Male 5 to 9 years</th>\n      <th>Estimate Total Male 10 to 14 years</th>\n      <th>Estimate Total Male 15 to 17 years</th>\n      <th>Estimate Total Male 18 and 19 years</th>\n      <th>Estimate Total Male 20 years</th>\n      <th>Estimate Total Male 21 years</th>\n      <th>Estimate Total Male 22 to 24 years</th>\n      <th>...</th>\n      <th>Estimate Total Male 50 to 54 years</th>\n      <th>Estimate Total Male 55 to 59 years</th>\n      <th>Estimate Total Male 60 and 61 years</th>\n      <th>Estimate Total Male 62 to 64 years</th>\n      <th>Estimate Total Male 65 and 66 years</th>\n      <th>Estimate Total Male 67 to 69 years</th>\n      <th>Estimate Total Male 70 to 74 years</th>\n      <th>Estimate Total Male 75 to 79 years</th>\n      <th>Estimate Total Male 80 to 84 years</th>\n      <th>Estimate Total Male 85 years and over</th>\n    </tr>\n  </thead>\n  <tbody>\n    <tr>\n      <th>0</th>\n      <td>2017</td>\n      <td>160402504</td>\n      <td>10138447</td>\n      <td>10223398</td>\n      <td>10854851</td>\n      <td>6456448</td>\n      <td>4547414</td>\n      <td>2354931</td>\n      <td>2284991</td>\n      <td>6640221</td>\n      <td>...</td>\n      <td>10521449</td>\n      <td>10561492</td>\n      <td>4106765</td>\n      <td>5606148</td>\n      <td>3381427</td>\n      <td>4596961</td>\n      <td>5912776</td>\n      <td>3934609</td>\n      <td>2492574</td>\n      <td>2202102</td>\n    </tr>\n    <tr>\n      <th>1</th>\n      <td>2018</td>\n      <td>161118151</td>\n      <td>10047966</td>\n      <td>10095699</td>\n      <td>11000943</td>\n      <td>6394674</td>\n      <td>4578048</td>\n      <td>2334371</td>\n      <td>2261277</td>\n      <td>6526051</td>\n      <td>...</td>\n      <td>10266496</td>\n      <td>10515549</td>\n      <td>4134525</td>\n      <td>5745886</td>\n      <td>3437352</td>\n      <td>4618529</td>\n      <td>6221547</td>\n      <td>4195815</td>\n      <td>2591562</td>\n      <td>2226093</td>\n    </tr>\n    <tr>\n      <th>2</th>\n      <td>2019</td>\n      <td>161588973</td>\n      <td>9938937</td>\n      <td>10033518</td>\n      <td>10987313</td>\n      <td>6361859</td>\n      <td>4541794</td>\n      <td>2318283</td>\n      <td>2257008</td>\n      <td>6439169</td>\n      <td>...</td>\n      <td>10075795</td>\n      <td>10440265</td>\n      <td>4168435</td>\n      <td>5882735</td>\n      <td>3538792</td>\n      <td>4652319</td>\n      <td>6529918</td>\n      <td>4367764</td>\n      <td>2671396</td>\n      <td>2284092</td>\n    </tr>\n  </tbody>\n</table>\n<p>3 rows × 25 columns</p>\n</div>"
     },
     "execution_count": 52,
     "metadata": {},
     "output_type": "execute_result"
    }
   ],
   "source": [
    "df = df_2017.merge(df_2018, left_index=True, right_index=True)\n",
    "df = df.merge(df_2019, left_index=True, right_index=True)\n",
    "df.T.reset_index().rename({'index': 'Year'}, axis=1)"
   ],
   "metadata": {
    "collapsed": false,
    "pycharm": {
     "name": "#%%\n"
    }
   }
  },
  {
   "cell_type": "code",
   "execution_count": 53,
   "outputs": [],
   "source": [
    "df_2005 = create_male_pop_by_age_df(2005)"
   ],
   "metadata": {
    "collapsed": false,
    "pycharm": {
     "name": "#%%\n"
    }
   }
  },
  {
   "cell_type": "code",
   "execution_count": 54,
   "outputs": [
    {
     "data": {
      "text/plain": "                                            2005\nEstimate Total Male                    141274964\nEstimate Total Male Under 5 years       10356773\nEstimate Total Male 5 to 9 years         9945226\nEstimate Total Male 10 to 14 years      10674272\nEstimate Total Male 15 to 17 years       6415594\nEstimate Total Male 18 and 19 years      3642423\nEstimate Total Male 20 years             1946123\nEstimate Total Male 21 years             1926099\nEstimate Total Male 22 to 24 years       5861680\nEstimate Total Male 25 to 29 years       9657845\nEstimate Total Male 30 to 34 years       9666002\nEstimate Total Male 35 to 39 years      10206343\nEstimate Total Male 40 to 44 years      11121959\nEstimate Total Male 45 to 49 years      10898786\nEstimate Total Male 50 to 54 years       9652987\nEstimate Total Male 55 to 59 years       8254342\nEstimate Total Male 60 and 61 years      2597744\nEstimate Total Male 62 to 64 years       3606637\nEstimate Total Male 65 and 66 years      2002360\nEstimate Total Male 67 to 69 years       2658450\nEstimate Total Male 70 to 74 years       3739824\nEstimate Total Male 75 to 79 years       3099604\nEstimate Total Male 80 to 84 years       2072317\nEstimate Total Male 85 years and over    1271574",
      "text/html": "<div>\n<style scoped>\n    .dataframe tbody tr th:only-of-type {\n        vertical-align: middle;\n    }\n\n    .dataframe tbody tr th {\n        vertical-align: top;\n    }\n\n    .dataframe thead th {\n        text-align: right;\n    }\n</style>\n<table border=\"1\" class=\"dataframe\">\n  <thead>\n    <tr style=\"text-align: right;\">\n      <th></th>\n      <th>2005</th>\n    </tr>\n  </thead>\n  <tbody>\n    <tr>\n      <th>Estimate Total Male</th>\n      <td>141274964</td>\n    </tr>\n    <tr>\n      <th>Estimate Total Male Under 5 years</th>\n      <td>10356773</td>\n    </tr>\n    <tr>\n      <th>Estimate Total Male 5 to 9 years</th>\n      <td>9945226</td>\n    </tr>\n    <tr>\n      <th>Estimate Total Male 10 to 14 years</th>\n      <td>10674272</td>\n    </tr>\n    <tr>\n      <th>Estimate Total Male 15 to 17 years</th>\n      <td>6415594</td>\n    </tr>\n    <tr>\n      <th>Estimate Total Male 18 and 19 years</th>\n      <td>3642423</td>\n    </tr>\n    <tr>\n      <th>Estimate Total Male 20 years</th>\n      <td>1946123</td>\n    </tr>\n    <tr>\n      <th>Estimate Total Male 21 years</th>\n      <td>1926099</td>\n    </tr>\n    <tr>\n      <th>Estimate Total Male 22 to 24 years</th>\n      <td>5861680</td>\n    </tr>\n    <tr>\n      <th>Estimate Total Male 25 to 29 years</th>\n      <td>9657845</td>\n    </tr>\n    <tr>\n      <th>Estimate Total Male 30 to 34 years</th>\n      <td>9666002</td>\n    </tr>\n    <tr>\n      <th>Estimate Total Male 35 to 39 years</th>\n      <td>10206343</td>\n    </tr>\n    <tr>\n      <th>Estimate Total Male 40 to 44 years</th>\n      <td>11121959</td>\n    </tr>\n    <tr>\n      <th>Estimate Total Male 45 to 49 years</th>\n      <td>10898786</td>\n    </tr>\n    <tr>\n      <th>Estimate Total Male 50 to 54 years</th>\n      <td>9652987</td>\n    </tr>\n    <tr>\n      <th>Estimate Total Male 55 to 59 years</th>\n      <td>8254342</td>\n    </tr>\n    <tr>\n      <th>Estimate Total Male 60 and 61 years</th>\n      <td>2597744</td>\n    </tr>\n    <tr>\n      <th>Estimate Total Male 62 to 64 years</th>\n      <td>3606637</td>\n    </tr>\n    <tr>\n      <th>Estimate Total Male 65 and 66 years</th>\n      <td>2002360</td>\n    </tr>\n    <tr>\n      <th>Estimate Total Male 67 to 69 years</th>\n      <td>2658450</td>\n    </tr>\n    <tr>\n      <th>Estimate Total Male 70 to 74 years</th>\n      <td>3739824</td>\n    </tr>\n    <tr>\n      <th>Estimate Total Male 75 to 79 years</th>\n      <td>3099604</td>\n    </tr>\n    <tr>\n      <th>Estimate Total Male 80 to 84 years</th>\n      <td>2072317</td>\n    </tr>\n    <tr>\n      <th>Estimate Total Male 85 years and over</th>\n      <td>1271574</td>\n    </tr>\n  </tbody>\n</table>\n</div>"
     },
     "execution_count": 54,
     "metadata": {},
     "output_type": "execute_result"
    }
   ],
   "source": [
    "df_2005"
   ],
   "metadata": {
    "collapsed": false,
    "pycharm": {
     "name": "#%%\n"
    }
   }
  },
  {
   "cell_type": "code",
   "execution_count": 63,
   "outputs": [
    {
     "data": {
      "text/plain": "  0%|          | 0/15 [00:00<?, ?it/s]",
      "application/vnd.jupyter.widget-view+json": {
       "version_major": 2,
       "version_minor": 0,
       "model_id": "d3bf291dcb004b888cd27257d02816dd"
      }
     },
     "metadata": {},
     "output_type": "display_data"
    }
   ],
   "source": [
    "from tqdm.notebook import tqdm\n",
    "years = [i for i in range(2005, 2020)]\n",
    "male_pop_by_age_df = pd.DataFrame()\n",
    "for year in tqdm(years):\n",
    "    try:\n",
    "        y_df = create_male_pop_by_age_df(year)\n",
    "        male_pop_by_age_df = male_pop_by_age_df.merge(y_df, left_index=True, right_index=True)\n",
    "    except:\n",
    "        next"
   ],
   "metadata": {
    "collapsed": false,
    "pycharm": {
     "name": "#%%\n"
    }
   }
  },
  {
   "cell_type": "code",
   "execution_count": 64,
   "outputs": [
    {
     "data": {
      "text/plain": "Empty DataFrame\nColumns: [2005, 2006, 2007, 2008, 2009, 2012, 2013, 2014, 2015, 2016, 2017, 2018, 2019]\nIndex: []",
      "text/html": "<div>\n<style scoped>\n    .dataframe tbody tr th:only-of-type {\n        vertical-align: middle;\n    }\n\n    .dataframe tbody tr th {\n        vertical-align: top;\n    }\n\n    .dataframe thead th {\n        text-align: right;\n    }\n</style>\n<table border=\"1\" class=\"dataframe\">\n  <thead>\n    <tr style=\"text-align: right;\">\n      <th></th>\n      <th>2005</th>\n      <th>2006</th>\n      <th>2007</th>\n      <th>2008</th>\n      <th>2009</th>\n      <th>2012</th>\n      <th>2013</th>\n      <th>2014</th>\n      <th>2015</th>\n      <th>2016</th>\n      <th>2017</th>\n      <th>2018</th>\n      <th>2019</th>\n    </tr>\n  </thead>\n  <tbody>\n  </tbody>\n</table>\n</div>"
     },
     "execution_count": 64,
     "metadata": {},
     "output_type": "execute_result"
    }
   ],
   "source": [
    "male_pop_by_age_df"
   ],
   "metadata": {
    "collapsed": false,
    "pycharm": {
     "name": "#%%\n"
    }
   }
  },
  {
   "cell_type": "markdown",
   "source": [
    "Hmmm, did something wrong here ^^^^"
   ],
   "metadata": {
    "collapsed": false,
    "pycharm": {
     "name": "#%% md\n"
    }
   }
  },
  {
   "cell_type": "code",
   "execution_count": null,
   "outputs": [],
   "source": [],
   "metadata": {
    "collapsed": false,
    "pycharm": {
     "name": "#%%\n"
    }
   }
  }
 ],
 "metadata": {
  "kernelspec": {
   "display_name": "Python 3",
   "language": "python",
   "name": "python3"
  },
  "language_info": {
   "codemirror_mode": {
    "name": "ipython",
    "version": 2
   },
   "file_extension": ".py",
   "mimetype": "text/x-python",
   "name": "python",
   "nbconvert_exporter": "python",
   "pygments_lexer": "ipython2",
   "version": "2.7.6"
  }
 },
 "nbformat": 4,
 "nbformat_minor": 0
}